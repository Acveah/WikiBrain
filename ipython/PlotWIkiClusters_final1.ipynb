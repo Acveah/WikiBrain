{
 "cells": [
  {
   "cell_type": "code",
   "execution_count": 1,
   "metadata": {
    "collapsed": false
   },
   "outputs": [],
   "source": [
    "import matplotlib.pyplot as plt\n",
    "import numpy as np\n",
    "import matplotlib.colors as colors\n",
    "# %matplotlib inline"
   ]
  },
  {
   "cell_type": "code",
   "execution_count": 2,
   "metadata": {
    "collapsed": true
   },
   "outputs": [],
   "source": [
    "PATH_DATA = \"/mnt/data/git/WikiBrain/src/main/resources/clusters/\"\n",
    "PATH_WW2 = PATH_DATA + \"ww2/part-00000\"\n",
    "PATH_SB = PATH_DATA + \"superBowl/part-00000\"\n",
    "PATH_CHARLIE = PATH_DATA + \"charlie_cluster/part-00000\"\n",
    "PATH_CHARLIE_NGBHRS = PATH_DATA + \"charlie/part-00000\"\n",
    "PATH_CHARLIE_WEEK = PATH_DATA + \"charlie_week/part-00000\"\n",
    "PATH_FERGUSON_WEEK = PATH_DATA + \"ferguson_week/part-00000\"\n",
    "PATH_GERMANWINGS_WEEK = PATH_DATA + \"germanwings_week/part-00000\"\n",
    "PATH_GERMANWINGS_MONTH = PATH_DATA + \"germanwings_month/part-00000\"\n",
    "\n",
    "PATH_WW2_LABELS = PATH_DATA + \"trainded_graphs_1_0_cleaned _WW2_labels.csv\"\n",
    "PATH_SB_LABELS = PATH_DATA + \"trainded_graphs_1_0_cleaned_FEB_SB_cluster.csv\"\n",
    "PATH_CHARLIE_LABELS = PATH_DATA + \"trainded_graphs_1_0_cleaned_charlie_cluster.csv\"\n",
    "PATH_CHARLIE_NGHBRS_LABELS = PATH_DATA + \"trainded_graphs_1_0_cleaned _Charlie.csv\"\n",
    "PATH_CHARLIE_WEEK_LABELS = PATH_DATA + \"Charlie_Hebdo_one_week_5_12_January.csv\"\n",
    "PATH_FERGUSON_WEEK_LABELS = PATH_DATA + \"Ferguson_one_week_22_03_December.csv\"\n",
    "PATH_GERMANWINGS_WEEK_LABELS = PATH_DATA + \"GermanWings_week.csv\"\n",
    "PATH_GERMANWINGS_MONTH_LABELS = PATH_DATA + \"GermanWings_month.csv\"\n",
    "\n",
    "#after standard deviation improvement\n",
    "PATH_FERGUSON_WEEK_STDDEV = PATH_DATA + \"ferguson_stddev/part-00000\"\n",
    "PATH_CHARLIE_WEEK_STDDEV = PATH_DATA + \"charlie_stddev/part-00000\"\n",
    "PATH_GERMANWINGS_WEEK_STDDEV = PATH_DATA + \"germanwings_stddev/part-00000\"\n",
    "\n",
    "PATH_FERGUSON_WEEK_LABELS_STDDEV = PATH_DATA + \"ferguson_week_stddev.csv\"\n",
    "PATH_CHARLIE_WEEK_LABELS_STDDEV = PATH_DATA + \"charlie_week_stddev.csv\"\n",
    "PATH_GERMANWINGS_WEEK_LABELS_STDDEV = PATH_DATA + \"germanwings_week_stddev.csv\""
   ]
  },
  {
   "cell_type": "code",
   "execution_count": 3,
   "metadata": {
    "collapsed": false
   },
   "outputs": [],
   "source": [
    "PATH_ACTIVATIONS = PATH_GERMANWINGS_WEEK_STDDEV #actications\n",
    "PATH_LABELS = PATH_GERMANWINGS_WEEK_LABELS_STDDEV # labels\n",
    "# PATH_ACTIVATIONS = PATH_SB #actications\n",
    "# PATH_LABELS = PATH_SB_LABELS # labels"
   ]
  },
  {
   "cell_type": "code",
   "execution_count": 4,
   "metadata": {
    "collapsed": false
   },
   "outputs": [],
   "source": [
    "with open(PATH_ACTIVATIONS) as f:\n",
    "    content = f.readlines()"
   ]
  },
  {
   "cell_type": "code",
   "execution_count": 5,
   "metadata": {
    "collapsed": false
   },
   "outputs": [],
   "source": [
    "content = map(\n",
    "    lambda x: map(\n",
    "        lambda s: s.replace('(', '').replace(')','').replace('[','').replace(']','').replace('.0', ''), x.split(',')), \n",
    "    [x.strip() for x in content])"
   ]
  },
  {
   "cell_type": "code",
   "execution_count": 6,
   "metadata": {
    "collapsed": false
   },
   "outputs": [],
   "source": [
    "content = map(lambda l: [int(x) for x in l], content)"
   ]
  },
  {
   "cell_type": "code",
   "execution_count": 7,
   "metadata": {
    "collapsed": true
   },
   "outputs": [],
   "source": [
    "ids = map(lambda l: l[0], content)"
   ]
  },
  {
   "cell_type": "code",
   "execution_count": 8,
   "metadata": {
    "collapsed": false
   },
   "outputs": [],
   "source": [
    "with open(PATH_LABELS) as f:\n",
    "    idsLabels = f.readlines()\n",
    "idsLabels = [x.strip() for x in idsLabels]"
   ]
  },
  {
   "cell_type": "code",
   "execution_count": 9,
   "metadata": {
    "collapsed": false
   },
   "outputs": [],
   "source": [
    "idsLabels = map(lambda l: (int(l[0]), l[1]), map(lambda t: t.split(','), idsLabels))\n",
    "idsLabels_ = idsLabels"
   ]
  },
  {
   "cell_type": "code",
   "execution_count": 10,
   "metadata": {
    "collapsed": true
   },
   "outputs": [],
   "source": [
    "import string\n",
    "printable = set(string.printable)\n",
    "idsLabels = map(lambda l: (int(l[0]), filter(lambda x: x in printable, l[1])), idsLabels)"
   ]
  },
  {
   "cell_type": "code",
   "execution_count": 11,
   "metadata": {
    "collapsed": false
   },
   "outputs": [],
   "source": [
    "idsLabels = dict(idsLabels)"
   ]
  },
  {
   "cell_type": "code",
   "execution_count": 12,
   "metadata": {
    "collapsed": false,
    "scrolled": true
   },
   "outputs": [
    {
     "data": {
      "text/plain": [
       "{981: 'Alps',\n",
       " 4249: 'Barcelonnette',\n",
       " 4614: 'Boeing_747',\n",
       " 10243: 'Exxon_Valdez_oil_spill',\n",
       " 13292: 'Hypoxia_(medical)',\n",
       " 20209: 'March_24',\n",
       " 65711: 'Dsseldorf',\n",
       " 76762: 'Democratic_Republic_of_the_Congo',\n",
       " 89260: 'Boeing_777',\n",
       " 92734: 'Tenerife_airport_disaster',\n",
       " 97733: 'Lufthansa',\n",
       " 149697: 'Boeing_737',\n",
       " 164536: 'Aviation_accidents_and_incidents',\n",
       " 164933: 'Airbus_A320_family',\n",
       " 181173: 'Airbus_A380',\n",
       " 189482: 'Exxon_Valdez',\n",
       " 408120: 'Air_France_Flight_4590',\n",
       " 409566: 'List_of_accidents_and_incidents_involving_commercial_aircraft',\n",
       " 420387: 'Japan_Airlines_Flight_123',\n",
       " 471406: 'Pacific_Southwest_Airlines_Flight_1771',\n",
       " 562943: 'Nail_clubbing',\n",
       " 646009: 'Alive_(1993_film)',\n",
       " 682931: 'Aviation_safety',\n",
       " 701618: 'Germanwings',\n",
       " 720333: 'Gameel_Al-Batouti',\n",
       " 724185: 'Japan_Airlines_Flight_350',\n",
       " 738736: '1972_Andes_flight_disaster',\n",
       " 938385: 'Flight_recorder',\n",
       " 961317: 'French_Alps',\n",
       " 1055184: 'Digne-les-Bains',\n",
       " 1154033: 'SilkAir_Flight_185',\n",
       " 1182568: 'Stalag_Luft_III',\n",
       " 1749585: 'Eurowings',\n",
       " 1768549: 'Nanking_Incident',\n",
       " 2372281: 'Air_France_Flight_296',\n",
       " 2450947: 'Helios_Airways_Flight_522',\n",
       " 2971192: 'Sukhoi_PAK_FA',\n",
       " 3938749: 'Aeroflot_Flight_593',\n",
       " 4370499: 'Montabaur',\n",
       " 7302005: 'Scott_Clendenin',\n",
       " 7376767: 'Transponder_(aeronautics)',\n",
       " 15416167: 'Prads-Haute-Blone',\n",
       " 18950050: 'Black_box',\n",
       " 19512765: 'EgyptAir_Flight_990',\n",
       " 21110342: 'US_Airways_Flight_1549',\n",
       " 23042123: 'Air_France_Flight_447',\n",
       " 24004807: 'Sakuradamon_Incident_(1860)',\n",
       " 26220236: 'Airbus',\n",
       " 31935631: 'Royal_Air_Maroc_Flight_630',\n",
       " 39249563: 'Accidents_and_incidents_involving_the_Airbus_A320_family',\n",
       " 39587099: 'List_of_aircraft_accidents_and_incidents_resulting_in_at_least_50_fatalities',\n",
       " 41228406: 'LAM_Mozambique_Airlines_Flight_470',\n",
       " 41733734: 'Air_France_Flight_178',\n",
       " 46213006: 'Germanwings_Flight_9525',\n",
       " 46215667: 'Carsten_Spohr',\n",
       " 46217829: 'Oleg_Bryjak',\n",
       " 46218286: 'Maria_Radner',\n",
       " 46232690: 'Andreas_Lubitz',\n",
       " 46233624: 'Suicide_by_pilot'}"
      ]
     },
     "execution_count": 12,
     "metadata": {},
     "output_type": "execute_result"
    }
   ],
   "source": [
    "idsLabels"
   ]
  },
  {
   "cell_type": "markdown",
   "metadata": {},
   "source": [
    "### GO TO PLOT SECTION\n",
    "### Filtering for particular clusters (Run only if needed)"
   ]
  },
  {
   "cell_type": "markdown",
   "metadata": {},
   "source": [
    "#### 1. SB: Only NFL teams"
   ]
  },
  {
   "cell_type": "code",
   "execution_count": null,
   "metadata": {
    "collapsed": true
   },
   "outputs": [],
   "source": [
    "nfl_teams = ['Buffalo_Bills','Miami_Dolphins','New_England_Patriots','New_York_Jets','Baltimore_Ravens','Cincinnati_Bengals','Cleveland_Browns','Pittsburgh_Steelers','Houston_Texans','Indianapolis_Colts','Jacksonville_Jaguars','Tennessee_Titans','Denver_Broncos','Kansas_City_Chiefs','Los_Angeles_Chargers','Oakland_Raiders','Dallas_Cowboys','New_York_Giants','Philadelphia_Eagles','Washington_Redskins','Chicago_Bears','Detroit_Lions','Green_Bay_Packers','Minnesota_Vikings','Atlanta_Falcons','Carolina_Panthers','New_Orleans_Saints','Tampa_Bay_Buccaneers','Arizona_Cardinals','Los_Angeles_Rams','San_Francisco_49ers','Seattle_Seahawks']"
   ]
  },
  {
   "cell_type": "code",
   "execution_count": null,
   "metadata": {
    "collapsed": false
   },
   "outputs": [],
   "source": [
    "count = 0\n",
    "for team in nfl_teams:\n",
    "    if team in idsLabels.values():\n",
    "        count += 1\n",
    "count"
   ]
  },
  {
   "cell_type": "code",
   "execution_count": null,
   "metadata": {
    "collapsed": false
   },
   "outputs": [],
   "source": [
    "nfl_labels = []\n",
    "for team in nfl_teams:\n",
    "    for label in idsLabels_:\n",
    "        if label[1] == team:\n",
    "            nfl_labels.append(label)"
   ]
  },
  {
   "cell_type": "code",
   "execution_count": null,
   "metadata": {
    "collapsed": true
   },
   "outputs": [],
   "source": [
    "import string\n",
    "printable = set(string.printable)\n",
    "nfl_labels = map(lambda l: (int(l[0]), filter(lambda x: x in printable, l[1])), nfl_labels)"
   ]
  },
  {
   "cell_type": "code",
   "execution_count": null,
   "metadata": {
    "collapsed": true
   },
   "outputs": [],
   "source": [
    "nfl_labels = dict(nfl_labels)"
   ]
  },
  {
   "cell_type": "code",
   "execution_count": null,
   "metadata": {
    "collapsed": false
   },
   "outputs": [],
   "source": [
    "contentSB = []\n",
    "for c in content:\n",
    "    if c[0] in nfl_labels.keys():\n",
    "        contentSB.append(c)\n",
    "content = contentSB"
   ]
  },
  {
   "cell_type": "code",
   "execution_count": null,
   "metadata": {
    "collapsed": true
   },
   "outputs": [],
   "source": [
    "idsLabels = nfl_labels"
   ]
  },
  {
   "cell_type": "markdown",
   "metadata": {},
   "source": [
    "#### 2. CHARLIE. Remove particular pages by index in the \"content\" array"
   ]
  },
  {
   "cell_type": "code",
   "execution_count": null,
   "metadata": {
    "collapsed": false
   },
   "outputs": [],
   "source": [
    "indexToDelete = [2,6,12,18,20]\n",
    "deleted = 0\n",
    "\n",
    "for i in indexToDelete:\n",
    "    i -= deleted\n",
    "    deleted += 1\n",
    "    del content[i]\n",
    "    del ids[i]"
   ]
  },
  {
   "cell_type": "markdown",
   "metadata": {},
   "source": [
    "### PLOT"
   ]
  },
  {
   "cell_type": "code",
   "execution_count": 13,
   "metadata": {
    "collapsed": true
   },
   "outputs": [],
   "source": [
    "months = ['October', 'November', 'December', 'January', 'February', 'March', 'April']"
   ]
  },
  {
   "cell_type": "code",
   "execution_count": 14,
   "metadata": {
    "collapsed": false
   },
   "outputs": [],
   "source": [
    "x_mon = [i for i in np.arange(0, len(content[0]), 7*24)]\n",
    "x_sat = [i for i in np.arange(5*24, len(content[0]), 7*24)]\n",
    "x_month = [i for i in np.arange(8*24, len(content[0]), 30*24)]"
   ]
  },
  {
   "cell_type": "code",
   "execution_count": 15,
   "metadata": {
    "collapsed": false
   },
   "outputs": [],
   "source": [
    "x_month[1] = x_month[1] + 24 #October\n",
    "x_month[2] = x_month[2] + 24 #November\n",
    "x_month[3] = x_month[3] + 48 #December\n",
    "x_month[4] = x_month[4] + 72 #January\n",
    "x_month[5] = x_month[5] + 24 #February\n",
    "x_month[6] = x_month[6] + 48 #March\n",
    "x_month[7] = x_month[7] + 48 #April"
   ]
  },
  {
   "cell_type": "code",
   "execution_count": 16,
   "metadata": {
    "collapsed": true
   },
   "outputs": [],
   "source": [
    "from pylab import rcParams\n",
    "rcParams['font.family'] = 'sans-serif'\n",
    "rcParams['font.sans-serif'] = ['Arial']"
   ]
  },
  {
   "cell_type": "code",
   "execution_count": 17,
   "metadata": {
    "collapsed": true
   },
   "outputs": [],
   "source": [
    "sorted_content = sorted(content, key = lambda c: c[0])"
   ]
  },
  {
   "cell_type": "code",
   "execution_count": 18,
   "metadata": {
    "collapsed": true
   },
   "outputs": [],
   "source": [
    "ids = idsLabels.keys()\n",
    "ids.sort()\n",
    "# ids = ids # for Charlie neighbors filtering. If needed"
   ]
  },
  {
   "cell_type": "markdown",
   "metadata": {},
   "source": [
    "#### Activations"
   ]
  },
  {
   "cell_type": "code",
   "execution_count": null,
   "metadata": {
    "collapsed": false,
    "scrolled": true
   },
   "outputs": [],
   "source": [
    "rcParams['figure.figsize'] = 50, 70\n",
    "rcParams['xtick.labelsize'] = 50\n",
    "rcParams['ytick.labelsize'] = 50\n",
    "plt.imshow(map(lambda l: l[0:], sorted_content), cmap=\"Blues\", interpolation='nearest', aspect='auto', norm=colors.PowerNorm(gamma=1./10.))\n",
    "plt.colorbar()\n",
    "plt.xticks([i + 15*24 for i in x_month], [month for month in months])\n",
    "plt.yticks([i for i in range(0,len(sorted_content))], [idsLabels[x] for x in ids])\n",
    "# for xc in x_mon:\n",
    "#     plt.axvline(x=xc, linewidth=1, color = 'b')\n",
    "for xc in x_month:\n",
    "    plt.axvline(x=xc, linewidth=1, color = 'r')\n",
    "# for xc in x_sat:\n",
    "#     plt.axvline(x=xc, linewidth=1, color = 'g')"
   ]
  },
  {
   "cell_type": "markdown",
   "metadata": {
    "collapsed": true
   },
   "source": [
    "### Overall cluster activity"
   ]
  },
  {
   "cell_type": "code",
   "execution_count": 19,
   "metadata": {
    "collapsed": true
   },
   "outputs": [],
   "source": [
    "content_t = np.transpose(map(lambda l: l[1:],content))\n",
    "summary = [sum(l) for l in content_t]"
   ]
  },
  {
   "cell_type": "code",
   "execution_count": 20,
   "metadata": {
    "collapsed": true
   },
   "outputs": [],
   "source": [
    "from math import log"
   ]
  },
  {
   "cell_type": "markdown",
   "metadata": {},
   "source": [
    "Get Google trends"
   ]
  },
  {
   "cell_type": "code",
   "execution_count": 21,
   "metadata": {
    "collapsed": true
   },
   "outputs": [],
   "source": [
    "from pytrends.request import TrendReq\n",
    "import pandas as pd"
   ]
  },
  {
   "cell_type": "code",
   "execution_count": 22,
   "metadata": {
    "collapsed": false
   },
   "outputs": [],
   "source": [
    "# keyword = ['Super Bowl', 'Germanwings Flight 9525', 'Charlie Hebdo', 'Ferguson unrest']\n",
    "keyword = ['Germanwings Flight 9525']\n",
    "pytrend = TrendReq(hl='en-WORLD')\n",
    "pytrend.build_payload(kw_list=keyword, timeframe='2014-09-23 2015-04-30', geo='', gprop='')"
   ]
  },
  {
   "cell_type": "code",
   "execution_count": 23,
   "metadata": {
    "collapsed": false
   },
   "outputs": [
    {
     "data": {
      "text/plain": [
       "(220, 2)"
      ]
     },
     "execution_count": 23,
     "metadata": {},
     "output_type": "execute_result"
    }
   ],
   "source": [
    "interest_over_time_df = pytrend.interest_over_time()\n",
    "interest_over_time_df.shape"
   ]
  },
  {
   "cell_type": "code",
   "execution_count": 24,
   "metadata": {
    "collapsed": false
   },
   "outputs": [],
   "source": [
    "interest_over_time_df = interest_over_time_df.drop(['isPartial'], axis=1)"
   ]
  },
  {
   "cell_type": "code",
   "execution_count": 25,
   "metadata": {
    "collapsed": false
   },
   "outputs": [],
   "source": [
    "summary_day = [sum(summary[i:i + 24]) for i in xrange(0, len(summary), 24)]\n",
    "summary_day = [x*100.0 / max(summary_day) for x in summary_day]"
   ]
  },
  {
   "cell_type": "code",
   "execution_count": 26,
   "metadata": {
    "collapsed": false
   },
   "outputs": [],
   "source": [
    "interest_over_time_df['Proposed'] = summary_day\n",
    "interest_over_time_df.columns = ['Google Trends', 'Proposed']"
   ]
  },
  {
   "cell_type": "code",
   "execution_count": 27,
   "metadata": {
    "collapsed": true
   },
   "outputs": [],
   "source": [
    "# plt.style.use(['dark_background', 'seaborn-talk'])"
   ]
  },
  {
   "cell_type": "code",
   "execution_count": 28,
   "metadata": {
    "collapsed": true
   },
   "outputs": [],
   "source": [
    "rcParams['figure.figsize'] = 25, 12\n",
    "rcParams['xtick.labelsize'] = 40\n",
    "rcParams['ytick.labelsize'] = 50"
   ]
  },
  {
   "cell_type": "code",
   "execution_count": 29,
   "metadata": {
    "collapsed": false
   },
   "outputs": [],
   "source": [
    "from itertools import cycle, islice\n",
    "my_colors = list(islice(cycle(['#0099FF', '#990033']), None, len(interest_over_time_df)))"
   ]
  },
  {
   "cell_type": "code",
   "execution_count": 30,
   "metadata": {
    "collapsed": false
   },
   "outputs": [],
   "source": [
    "# interest_over_time_df.plot(linewidth=5, color=my_colors, dashes=[20, 20])\n",
    "# # plt.title('Charlie Hebdo')\n",
    "# plt.xlabel('')\n",
    "# plt.legend(prop={'size':34}, loc=2)"
   ]
  },
  {
   "cell_type": "code",
   "execution_count": 31,
   "metadata": {
    "collapsed": false
   },
   "outputs": [
    {
     "data": {
      "text/plain": [
       "<matplotlib.legend.Legend at 0x7fcd07c761d0>"
      ]
     },
     "execution_count": 31,
     "metadata": {},
     "output_type": "execute_result"
    }
   ],
   "source": [
    "interest_over_time_df['Google Trends'].plot(linewidth=10, color=my_colors[0], dashes=[3, 3])\n",
    "interest_over_time_df['Proposed'].plot(linewidth=5, color=my_colors[1])\n",
    "plt.xlabel('')\n",
    "plt.legend(prop={'size':34}, loc=2)"
   ]
  },
  {
   "cell_type": "code",
   "execution_count": 32,
   "metadata": {
    "collapsed": false
   },
   "outputs": [],
   "source": [
    "plt.savefig(\"germanwings_activations.pdf\", format='pdf', dpi=200)"
   ]
  },
  {
   "cell_type": "markdown",
   "metadata": {},
   "source": [
    "#### Summary timeline"
   ]
  },
  {
   "cell_type": "code",
   "execution_count": null,
   "metadata": {
    "collapsed": false
   },
   "outputs": [],
   "source": [
    "rcParams['figure.figsize'] = 25, 10\n",
    "rcParams['xtick.labelsize'] = 40\n",
    "rcParams['ytick.labelsize'] = 50\n",
    "# plt.grid()\n",
    "# for xc in x_mon:\n",
    "#     plt.axvline(x=xc, linewidth=1, color = 'b')\n",
    "for xc in x_month:\n",
    "    plt.axvline(x=xc, linewidth=1, color = 'black')\n",
    "# for xc in x_sat:\n",
    "#     plt.axvline(x=xc, linewidth=1, color = 'g')\n",
    "x_ticks = [i + 15*24 for i in x_month]\n",
    "x_ticks[-1] -= 15*24\n",
    "plt.xticks(x_ticks, [month for month in months])\n",
    "plt.ticklabel_format(style='sci', axis='y', scilimits=(0,0))\n",
    "plt.plot(summary, 'r', linewidth=3)"
   ]
  },
  {
   "cell_type": "markdown",
   "metadata": {},
   "source": [
    "#### Activations + Summary timeline"
   ]
  },
  {
   "cell_type": "code",
   "execution_count": null,
   "metadata": {
    "collapsed": true
   },
   "outputs": [],
   "source": [
    "import itertools\n",
    "gt = interest_over_time_df['Google Trends'].tolist()\n",
    "proposed = interest_over_time_df['Proposed'].tolist()\n",
    "gt = list(itertools.chain.from_iterable(itertools.repeat(x, 24) for x in gt))\n",
    "proposed = list(itertools.chain.from_iterable(itertools.repeat(x, 24) for x in proposed))"
   ]
  },
  {
   "cell_type": "code",
   "execution_count": null,
   "metadata": {
    "collapsed": true
   },
   "outputs": [],
   "source": [
    "def savitzky_golay(y, window_size=747, order=2, deriv=0, rate=1):\n",
    "    r\"\"\"Smooth (and optionally differentiate) data with a Savitzky-Golay filter.\n",
    "    The Savitzky-Golay filter removes high frequency noise from data.\n",
    "    It has the advantage of preserving the original shape and\n",
    "    features of the signal better than other types of filtering\n",
    "    approaches, such as moving averages techniques.\n",
    "    Parameters\n",
    "    ----------\n",
    "    y : array_like, shape (N,)\n",
    "        the values of the time history of the signal.\n",
    "    window_size : int\n",
    "        the length of the window. Must be an odd integer number.\n",
    "    order : int\n",
    "        the order of the polynomial used in the filtering.\n",
    "        Must be less then `window_size` - 1.\n",
    "    deriv: int\n",
    "        the order of the derivative to compute (default = 0 means only smoothing)\n",
    "    Returns\n",
    "    -------\n",
    "    ys : ndarray, shape (N)\n",
    "        the smoothed signal (or it's n-th derivative).\n",
    "    Notes\n",
    "    -----\n",
    "    The Savitzky-Golay is a type of low-pass filter, particularly\n",
    "    suited for smoothing noisy data. The main idea behind this\n",
    "    approach is to make for each point a least-square fit with a\n",
    "    polynomial of high order over a odd-sized window centered at\n",
    "    the point.\n",
    "    Examples\n",
    "    --------\n",
    "    t = np.linspace(-4, 4, 500)\n",
    "    y = np.exp( -t**2 ) + np.random.normal(0, 0.05, t.shape)\n",
    "    ysg = savitzky_golay(y, window_size=31, order=4)\n",
    "    import matplotlib.pyplot as plt\n",
    "    plt.plot(t, y, label='Noisy signal')\n",
    "    plt.plot(t, np.exp(-t**2), 'k', lw=1.5, label='Original signal')\n",
    "    plt.plot(t, ysg, 'r', label='Filtered signal')\n",
    "    plt.legend()\n",
    "    plt.show()\n",
    "    References\n",
    "    ----------\n",
    "    .. [1] A. Savitzky, M. J. E. Golay, Smoothing and Differentiation of\n",
    "       Data by Simplified Least Squares Procedures. Analytical\n",
    "       Chemistry, 1964, 36 (8), pp 1627-1639.\n",
    "    .. [2] Numerical Recipes 3rd Edition: The Art of Scientific Computing\n",
    "       W.H. Press, S.A. Teukolsky, W.T. Vetterling, B.P. Flannery\n",
    "       Cambridge University Press ISBN-13: 9780521880688\n",
    "    \"\"\"\n",
    "    import numpy as np\n",
    "    from math import factorial\n",
    "\n",
    "    try:\n",
    "        window_size = np.abs(np.int(window_size))\n",
    "        order = np.abs(np.int(order))\n",
    "    except ValueError, msg:\n",
    "        raise ValueError(\"window_size and order have to be of type int\")\n",
    "    if window_size % 2 != 1 or window_size < 1:\n",
    "        raise TypeError(\"window_size size must be a positive odd number\")\n",
    "    if window_size < order + 2:\n",
    "        raise TypeError(\"window_size is too small for the polynomials order\")\n",
    "    order_range = range(order+1)\n",
    "    half_window = (window_size -1) // 2\n",
    "    # precompute coefficients\n",
    "    b = np.mat([[k**i for i in order_range] for k in range(-half_window, half_window+1)])\n",
    "    m = np.linalg.pinv(b).A[deriv] * rate**deriv * factorial(deriv)\n",
    "    # pad the signal at the extremes with\n",
    "    # values taken from the signal itself\n",
    "    firstvals = y[0] - np.abs( y[1:half_window+1][::-1] - y[0] )\n",
    "    lastvals = y[-1] + np.abs(y[-half_window-1:-1][::-1] - y[-1])\n",
    "    y = np.concatenate((firstvals, y, lastvals))\n",
    "    return np.convolve( m[::-1], y, mode='valid')"
   ]
  },
  {
   "cell_type": "code",
   "execution_count": null,
   "metadata": {
    "collapsed": false
   },
   "outputs": [],
   "source": [
    "gt = savitzky_golay(np.array(gt), window_size=25)\n",
    "proposed = savitzky_golay(np.array(proposed), window_size=25)"
   ]
  },
  {
   "cell_type": "code",
   "execution_count": null,
   "metadata": {
    "collapsed": false,
    "scrolled": false
   },
   "outputs": [],
   "source": [
    "# rcParams['figure.figsize'] = 90, 60\n",
    "# rcParams['xtick.labelsize'] = 80\n",
    "# rcParams['ytick.labelsize'] = 50\n",
    "# plt.rcParams['axes.facecolor'] = 'black'\n",
    "# rcParams[\"ytick.color\"] = \"w\"\n",
    "# rcParams[\"xtick.color\"] = \"w\"\n",
    "# rcParams[\"figure.facecolor\"] = '#121212'\n",
    "\n",
    "# ids = idsLabels.keys()\n",
    "# ids.sort()\n",
    "# scaling_factor = 0.0002\n",
    "# #plot overall statistics\n",
    "# plt.plot([s * scaling_factor - 0.5 for s in summary], '#00FF00', linewidth=3)\n",
    "# plt.plot([s * scaling_factor - 0.5 for s in summary], '#00FF00', linewidth=7)\n",
    "# plt.ylim([-0.5, len(content) - 0.5])\n",
    "# #plot activations\n",
    "# plt.imshow(map(lambda l: l[0:], sorted_content), cmap=\"gray\", interpolation='nearest', aspect='auto', norm=colors.PowerNorm(gamma=1./10.))\n",
    "# plt.yticks([i for i in range(0,len(sorted_content))], [idsLabels[x] for x in ids])\n",
    "# x_ticks = [i + 15*24 for i in x_month]\n",
    "# x_ticks[-1] -= 15*24\n",
    "# plt.xticks(x_ticks, [month for month in months])\n",
    "# # for xc in x_mon:\n",
    "# #     plt.axvline(x=xc, linewidth=1, color = 'b')\n",
    "# for xc in x_month:\n",
    "#     plt.axvline(x=xc, linewidth=2, color = 'w')\n",
    "# # for xc in x_sat:\n",
    "# #     plt.axvline(x=xc, linewidth=1, color = 'g')\n",
    "# plt.colorbar()\n",
    "\n",
    "# # plt.show()\n",
    "rcParams['figure.figsize'] = 90, 40\n",
    "rcParams['xtick.labelsize'] = 70\n",
    "rcParams['ytick.labelsize'] = 70\n",
    "# rcParams[\"ytick.color\"] = \"w\"\n",
    "# rcParams[\"xtick.color\"] = \"w\"\n",
    "# rcParams[\"figure.facecolor\"] = '#121212'\n",
    "\n",
    "ids = idsLabels.keys()\n",
    "ids.sort()\n",
    "scaling_factor = 0.0001\n",
    "#plot overall statistics\n",
    "# plt.plot([s * scaling_factor - 0.5 for s in summary], '#00FF00', linewidth=3)\n",
    "# plt.plot([s * scaling_factor - 0.5 for s in summary], 'r', linewidth=3)\n",
    "# interest_over_time_df.plot(linewidth=5, color=my_colors)\n",
    "plt.plot([s * 0.2 - 0.5 for s in gt], my_colors[0], linewidth=15, dashes=[20, 20], linestyle = 'None')\n",
    "plt.plot([s * 0.2 - 0.5 for s in proposed], 'red', linewidth=10)\n",
    "plt.ylim([-0.5, len(content) - 0.5])\n",
    "#plot activations\n",
    "plt.imshow(map(lambda l: l[0:], sorted_content), cmap=\"Greys\", interpolation='nearest', aspect='auto', norm=colors.PowerNorm(gamma=1./30.))\n",
    "plt.yticks([i for i in range(0,len(sorted_content))], [idsLabels[x].replace(\"_\", \" \") for x in ids])\n",
    "x_ticks = [i + 15*24 for i in x_month]\n",
    "x_ticks[-1] -= 15*24\n",
    "plt.xticks(x_ticks, [month for month in months])\n",
    "plt.legend(['Google Trends', 'Proposed'], prop={'size':70})\n",
    "# for xc in x_mon:\n",
    "#     plt.axvline(x=xc, linewidth=1, color = 'b')\n",
    "# for xc in x_month:\n",
    "#     plt.axvline(x=xc, linewidth=5, color = 'black')\n",
    "# for xc in x_sat:\n",
    "#     plt.axvline(x=xc, linewidth=1, color = 'g')\n",
    "from matplotlib import ticker\n",
    "cb = plt.colorbar()\n",
    "tick_locator = ticker.MaxNLocator(nbins=3)\n",
    "cb.locator = tick_locator\n",
    "cb.update_ticks()"
   ]
  },
  {
   "cell_type": "code",
   "execution_count": null,
   "metadata": {
    "collapsed": false
   },
   "outputs": [],
   "source": [
    "plt.savefig(\"activity.svg\", format='svg',dpi=200, bbox_inches='tight')"
   ]
  },
  {
   "cell_type": "code",
   "execution_count": null,
   "metadata": {
    "collapsed": true
   },
   "outputs": [],
   "source": []
  }
 ],
 "metadata": {
  "kernelspec": {
   "display_name": "Python 2",
   "language": "python",
   "name": "python2"
  },
  "language_info": {
   "codemirror_mode": {
    "name": "ipython",
    "version": 2
   },
   "file_extension": ".py",
   "mimetype": "text/x-python",
   "name": "python",
   "nbconvert_exporter": "python",
   "pygments_lexer": "ipython2",
   "version": "2.7.15rc1"
  }
 },
 "nbformat": 4,
 "nbformat_minor": 1
}
