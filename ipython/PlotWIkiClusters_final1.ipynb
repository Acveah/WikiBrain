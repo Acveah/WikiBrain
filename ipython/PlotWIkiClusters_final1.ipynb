{
 "cells": [
  {
   "cell_type": "code",
   "execution_count": 1,
   "metadata": {
    "collapsed": false
   },
   "outputs": [],
   "source": [
    "import matplotlib.pyplot as plt\n",
    "import numpy as np\n",
    "import matplotlib.colors as colors\n",
    "# %matplotlib inline"
   ]
  },
  {
   "cell_type": "code",
   "execution_count": 2,
   "metadata": {
    "collapsed": true
   },
   "outputs": [],
   "source": [
    "PATH_DATA = \"/mnt/data/git/WikiBrain/src/main/resources/clusters/\"\n",
    "PATH_WW2 = PATH_DATA + \"ww2/part-00000\"\n",
    "PATH_SB = PATH_DATA + \"superBowl/part-00000\"\n",
    "PATH_CHARLIE = PATH_DATA + \"charlie_cluster/part-00000\"\n",
    "PATH_CHARLIE_NGBHRS = PATH_DATA + \"charlie/part-00000\"\n",
    "PATH_CHARLIE_WEEK = PATH_DATA + \"charlie_week/part-00000\"\n",
    "PATH_FERGUSON_WEEK = PATH_DATA + \"ferguson_week/part-00000\"\n",
    "PATH_GERMANWINGS_WEEK = PATH_DATA + \"germanwings_week/part-00000\"\n",
    "PATH_GERMANWINGS_MONTH = PATH_DATA + \"germanwings_month/part-00000\"\n",
    "\n",
    "PATH_WW2_LABELS = PATH_DATA + \"trainded_graphs_1_0_cleaned _WW2_labels.csv\"\n",
    "PATH_SB_LABELS = PATH_DATA + \"trainded_graphs_1_0_cleaned_FEB_SB_cluster.csv\"\n",
    "PATH_CHARLIE_LABELS = PATH_DATA + \"trainded_graphs_1_0_cleaned_charlie_cluster.csv\"\n",
    "PATH_CHARLIE_NGHBRS_LABELS = PATH_DATA + \"trainded_graphs_1_0_cleaned _Charlie.csv\"\n",
    "PATH_CHARLIE_WEEK_LABELS = PATH_DATA + \"Charlie_Hebdo_one_week_5_12_January.csv\"\n",
    "PATH_FERGUSON_WEEK_LABELS = PATH_DATA + \"Ferguson_one_week_22_03_December.csv\"\n",
    "PATH_GERMANWINGS_WEEK_LABELS = PATH_DATA + \"GermanWings_week.csv\"\n",
    "PATH_GERMANWINGS_MONTH_LABELS = PATH_DATA + \"GermanWings_month.csv\"\n",
    "\n",
    "#after standard deviation improvement\n",
    "PATH_FERGUSON_WEEK_STDDEV = PATH_DATA + \"ferguson_stddev/part-00000\"\n",
    "PATH_CHARLIE_WEEK_STDDEV = PATH_DATA + \"charlie_stddev/part-00000\"\n",
    "PATH_GERMANWINGS_WEEK_STDDEV = PATH_DATA + \"germanwings_stddev/part-00000\"\n",
    "\n",
    "PATH_FERGUSON_WEEK_LABELS_STDDEV = PATH_DATA + \"ferguson_week_stddev.csv\"\n",
    "PATH_CHARLIE_WEEK_LABELS_STDDEV = PATH_DATA + \"charlie_week_stddev.csv\"\n",
    "PATH_GERMANWINGS_WEEK_LABELS_STDDEV = PATH_DATA + \"germanwings_week_stddev.csv\""
   ]
  },
  {
   "cell_type": "code",
   "execution_count": 3,
   "metadata": {
    "collapsed": false
   },
   "outputs": [],
   "source": [
    "# PATH_ACTIVATIONS = PATH_FERGUSON_WEEK_STDDEV #actications\n",
    "# PATH_LABELS = PATH_FERGUSON_WEEK_LABELS_STDDEV # labels\n",
    "PATH_ACTIVATIONS = PATH_SB #actications\n",
    "PATH_LABELS = PATH_SB_LABELS # labels"
   ]
  },
  {
   "cell_type": "code",
   "execution_count": 4,
   "metadata": {
    "collapsed": false
   },
   "outputs": [],
   "source": [
    "with open(PATH_ACTIVATIONS) as f:\n",
    "    content = f.readlines()"
   ]
  },
  {
   "cell_type": "code",
   "execution_count": 5,
   "metadata": {
    "collapsed": false
   },
   "outputs": [],
   "source": [
    "content = map(\n",
    "    lambda x: map(\n",
    "        lambda s: s.replace('(', '').replace(')','').replace('[','').replace(']','').replace('.0', ''), x.split(',')), \n",
    "    [x.strip() for x in content])"
   ]
  },
  {
   "cell_type": "code",
   "execution_count": 6,
   "metadata": {
    "collapsed": false
   },
   "outputs": [],
   "source": [
    "content = map(lambda l: [int(x) for x in l], content)"
   ]
  },
  {
   "cell_type": "code",
   "execution_count": 7,
   "metadata": {
    "collapsed": true
   },
   "outputs": [],
   "source": [
    "ids = map(lambda l: l[0], content)"
   ]
  },
  {
   "cell_type": "code",
   "execution_count": 8,
   "metadata": {
    "collapsed": false
   },
   "outputs": [],
   "source": [
    "with open(PATH_LABELS) as f:\n",
    "    idsLabels = f.readlines()\n",
    "idsLabels = [x.strip() for x in idsLabels]"
   ]
  },
  {
   "cell_type": "code",
   "execution_count": 9,
   "metadata": {
    "collapsed": false
   },
   "outputs": [],
   "source": [
    "idsLabels = map(lambda l: (int(l[0]), l[1]), map(lambda t: t.split(','), idsLabels))\n",
    "idsLabels_ = idsLabels"
   ]
  },
  {
   "cell_type": "code",
   "execution_count": 10,
   "metadata": {
    "collapsed": true
   },
   "outputs": [],
   "source": [
    "import string\n",
    "printable = set(string.printable)\n",
    "idsLabels = map(lambda l: (int(l[0]), filter(lambda x: x in printable, l[1])), idsLabels)"
   ]
  },
  {
   "cell_type": "code",
   "execution_count": 11,
   "metadata": {
    "collapsed": false
   },
   "outputs": [],
   "source": [
    "idsLabels = dict(idsLabels)"
   ]
  },
  {
   "cell_type": "code",
   "execution_count": 12,
   "metadata": {
    "collapsed": false,
    "scrolled": true
   },
   "outputs": [
    {
     "data": {
      "text/plain": [
       "{615: 'American_Football_Conference',\n",
       " 2102: 'Arizona_Cardinals',\n",
       " 2103: 'Atlanta_Falcons',\n",
       " 2357: 'American_Football_League',\n",
       " 4293: 'Baltimore_Ravens',\n",
       " 4315: 'Buffalo_Bills',\n",
       " 4893: 'Bob_Costas',\n",
       " 6576: 'Cleveland_Browns',\n",
       " 6610: 'Carolina_Panthers',\n",
       " 6611: 'Chicago_Bears',\n",
       " 6612: 'Cincinnati_Bengals',\n",
       " 6771: 'College_football',\n",
       " 8121: 'Dallas_Cowboys',\n",
       " 8122: 'Denver_Broncos',\n",
       " 8577: 'Detroit_Lions',\n",
       " 10285: 'Eligible_receiver',\n",
       " 12663: 'Green_Bay_Packers',\n",
       " 13864: 'Houston_Texans',\n",
       " 15049: 'Indianapolis_Colts',\n",
       " 15644: 'Johnny_Unitas',\n",
       " 16156: 'Jacksonville_Jaguars',\n",
       " 16986: 'Kent_State_University',\n",
       " 17640: 'Line_of_scrimmage',\n",
       " 19190: 'Miami_Dolphins',\n",
       " 20134: 'Minnesota_Vikings',\n",
       " 21211: 'National_Football_League',\n",
       " 21216: 'Nevada',\n",
       " 21719: 'New_England_Patriots',\n",
       " 21720: 'New_Orleans_Saints',\n",
       " 21721: 'New_York_Jets',\n",
       " 21757: 'New_York_Giants',\n",
       " 21780: 'NBC',\n",
       " 22312: 'Oakland_Raiders',\n",
       " 23338: 'Pittsburgh_Steelers',\n",
       " 23339: 'Philadelphia_Eagles',\n",
       " 23347: 'Paul_Allen',\n",
       " 25277: 'Quarterback',\n",
       " 26589: 'Red_Hot_Chili_Peppers',\n",
       " 27169: 'San_Francisco_49ers',\n",
       " 27170: 'San_Diego_Chargers',\n",
       " 27718: 'Super_Bowl',\n",
       " 28390: 'Seattle_Seahawks',\n",
       " 28975: 'Super_Bowl_III',\n",
       " 28976: 'Super_Bowl_XX',\n",
       " 29128: 'Super_Bowl_I',\n",
       " 29129: 'Super_Bowl_II',\n",
       " 29130: 'Super_Bowl_IV',\n",
       " 29131: 'Super_Bowl_V',\n",
       " 29132: 'Super_Bowl_VI',\n",
       " 29133: 'Super_Bowl_VII',\n",
       " 29134: 'Super_Bowl_VIII',\n",
       " 29135: 'Super_Bowl_IX',\n",
       " 29136: 'Super_Bowl_X',\n",
       " 29137: 'Super_Bowl_XI',\n",
       " 29138: 'Super_Bowl_XII',\n",
       " 29139: 'Super_Bowl_XIII',\n",
       " 29140: 'Super_Bowl_XIV',\n",
       " 29141: 'Super_Bowl_XV',\n",
       " 29142: 'Super_Bowl_XVI',\n",
       " 29143: 'Super_Bowl_XVII',\n",
       " 29144: 'Super_Bowl_XVIII',\n",
       " 29145: 'Super_Bowl_XIX',\n",
       " 29146: 'Super_Bowl_XXI',\n",
       " 29147: 'Super_Bowl_XXII',\n",
       " 29148: 'Super_Bowl_XXIII',\n",
       " 29149: 'Super_Bowl_XXIV',\n",
       " 29150: 'Super_Bowl_XXV',\n",
       " 29151: 'Super_Bowl_XXVI',\n",
       " 29152: 'Super_Bowl_XXVII',\n",
       " 29153: 'Super_Bowl_XXVIII',\n",
       " 29154: 'Super_Bowl_XXIX',\n",
       " 29155: 'Super_Bowl_XXX',\n",
       " 29156: 'Super_Bowl_XXXI',\n",
       " 29157: 'Super_Bowl_XXXII',\n",
       " 29158: 'Super_Bowl_XXXIII',\n",
       " 29159: 'Super_Bowl_XXXIV',\n",
       " 29160: 'Super_Bowl_XXXV',\n",
       " 29564: 'Super_Bowl_XXXVI',\n",
       " 29656: 'Steve_Ballmer',\n",
       " 30837: 'Tampa_Bay_Buccaneers',\n",
       " 30839: 'Tennessee_Titans',\n",
       " 31064: 'The_Star-Spangled_Banner',\n",
       " 32641: 'Vince_Lombardi',\n",
       " 33673: 'Washington_Redskins',\n",
       " 50585: 'Philadelphia',\n",
       " 52970: 'Pete_Rose',\n",
       " 60089: 'Terry_Bradshaw',\n",
       " 87200: 'William_Perry_(American_football)',\n",
       " 87311: 'Sun_Devil_Stadium',\n",
       " 143183: 'Football_(ball)',\n",
       " 154857: 'Emmitt_Smith',\n",
       " 167154: 'Jerry_Jones',\n",
       " 169408: 'Nelly',\n",
       " 174949: 'Super_Bowl_XXXVII',\n",
       " 189559: 'Doug_Flutie',\n",
       " 206812: 'CenturyLink_Field',\n",
       " 207152: 'National_Football_Conference',\n",
       " 213100: 'Ben_Vereen',\n",
       " 230107: 'Grey_Cup',\n",
       " 245711: 'New_England_Revolution',\n",
       " 254173: 'Winnipeg_Blue_Bombers',\n",
       " 270703: 'Touchdown',\n",
       " 271635: 'Vince_Lombardi_Trophy',\n",
       " 274117: 'Pro_Bowl',\n",
       " 275966: 'Larry_Csonka',\n",
       " 285712: 'Joe_Namath',\n",
       " 288178: 'Jim_Kelly',\n",
       " 291253: 'Super_Bowl_Most_Valuable_Player_Award',\n",
       " 295079: 'Running_back',\n",
       " 295701: 'Joe_Montana',\n",
       " 296565: 'Steve_Young',\n",
       " 305029: 'Bill_Parcells',\n",
       " 308121: 'John_Elway',\n",
       " 315777: 'Anthony_Kiedis',\n",
       " 316466: 'NRG_Stadium',\n",
       " 322192: 'Free_agent',\n",
       " 327892: 'Jimmy_Johnson_(American_football_coach)',\n",
       " 327911: 'Tony_Dorsett',\n",
       " 331620: 'Katie_Couric',\n",
       " 339827: 'Steve_Largent',\n",
       " 339841: 'Tom_Brady',\n",
       " 368118: 'Madden_NFL',\n",
       " 401277: 'Cornerback',\n",
       " 402607: 'Jerry_Rice',\n",
       " 402659: 'Al_Michaels',\n",
       " 414302: 'Kurt_Warner',\n",
       " 427707: 'Super_Bowl_XXXVIII',\n",
       " 428819: 'Terrell_Owens',\n",
       " 428979: 'Michael_Vick',\n",
       " 429833: 'Peyton_Manning',\n",
       " 430985: 'Immaculate_Reception',\n",
       " 440001: 'Adam_Vinatieri',\n",
       " 445102: 'Gillette_Stadium',\n",
       " 445861: 'Frank_Gifford',\n",
       " 449268: 'Randy_Moss',\n",
       " 449874: 'Michael_Irvin',\n",
       " 449982: 'Ray_Lewis',\n",
       " 453767: 'AFLNFL_merger',\n",
       " 489589: 'University_of_Phoenix',\n",
       " 492475: 'Linebacker',\n",
       " 492476: 'Wide_receiver',\n",
       " 492481: 'Tight_end',\n",
       " 495038: 'Roger_Staubach',\n",
       " 498971: 'Super_Bowl_XXXVIII_halftime_show_controversy',\n",
       " 518715: 'Kraft_Foods',\n",
       " 532872: 'Bryant_Gumbel',\n",
       " 540853: 'Interception',\n",
       " 540877: 'Quarterback_sack',\n",
       " 540996: 'Reggie_White',\n",
       " 547452: 'Gridiron_football',\n",
       " 595639: 'Pat_Tillman',\n",
       " 596801: 'Pete_Carroll',\n",
       " 618376: 'Eli_Manning',\n",
       " 624775: 'Foxboro_Stadium',\n",
       " 625066: 'Bo_Jackson',\n",
       " 626568: 'Mercedes-Benz_Superdome',\n",
       " 638055: 'Don_Shula',\n",
       " 640658: 'Archie_Manning',\n",
       " 643649: 'List_of_most_watched_television_broadcasts',\n",
       " 648835: 'Bill_Belichick',\n",
       " 656892: 'History_of_the_National_Football_League_championship',\n",
       " 657804: 'Drew_Brees',\n",
       " 663402: 'Luke_Wilson',\n",
       " 665961: 'Onside_kick',\n",
       " 674055: 'Jesse_Palmer',\n",
       " 685010: 'Super_Bowl_XXXIX',\n",
       " 685028: 'Super_Bowl_XL',\n",
       " 699349: 'Ben_Roethlisberger',\n",
       " 710502: 'National_Football_League_draft',\n",
       " 764618: 'Jim_Plunkett',\n",
       " 788823: 'Bart_Starr',\n",
       " 872675: 'Halftime_show',\n",
       " 876997: 'Greater_Boston',\n",
       " 884939: 'Tedy_Bruschi',\n",
       " 896988: 'Drew_Bledsoe',\n",
       " 901141: 'Deion_Sanders',\n",
       " 926381: 'Michigan_Stadium',\n",
       " 926934: 'Gisele_Bndchen',\n",
       " 928959: 'Adriana_Lima',\n",
       " 960833: 'Jamal_Lewis',\n",
       " 962449: 'Down_(American_and_Canadian_football)',\n",
       " 966091: 'Touchback',\n",
       " 968777: 'Cholangiocarcinoma',\n",
       " 1009736: '12th_man_(football)',\n",
       " 1011002: 'Chuck_Howley',\n",
       " 1020389: 'Matt_Hasselbeck',\n",
       " 1045799: 'Bubba_Smith',\n",
       " 1069241: 'Tony_Dungy',\n",
       " 1078824: 'Doug_Williams_(American_football)',\n",
       " 1117731: 'Plaxico_Burress',\n",
       " 1129656: 'Hines_Ward',\n",
       " 1136585: 'Comparison_of_American_and_Canadian_football',\n",
       " 1139481: 'Pass_interference',\n",
       " 1158171: 'Rodney_Harrison',\n",
       " 1164815: 'Shaun_Alexander',\n",
       " 1219647: 'Howie_Long',\n",
       " 1227585: 'Super_Bowl_XLI',\n",
       " 1249062: 'Troy_Polamalu',\n",
       " 1250445: 'Jevon_Kearse',\n",
       " 1259428: 'Super_Bowl_XLII',\n",
       " 1263005: 'Super_Bowl_XLIII',\n",
       " 1278218: 'Michael_Strahan',\n",
       " 1284267: 'Aaron_Rodgers',\n",
       " 1306936: 'Jim_Harbaugh',\n",
       " 1306971: 'Ickey_Woods',\n",
       " 1312730: 'Charles_Haley',\n",
       " 1345171: 'List_of_NFL_franchise_post-season_droughts',\n",
       " 1391951: 'American_football_rules',\n",
       " 1406500: 'Super_Bowl_XLIV',\n",
       " 1409106: 'AFC_Championship_Game',\n",
       " 1425956: 'Robert_Kraft',\n",
       " 1427291: 'Andre_Rison',\n",
       " 1438023: 'Deion_Branch',\n",
       " 1439540: 'Trent_Dilfer',\n",
       " 1475119: 'Cris_Collinsworth',\n",
       " 1481025: 'Official_(American_football)',\n",
       " 1487739: 'The_Catch_(American_football)',\n",
       " 1497643: 'Wellington_Mara',\n",
       " 1585112: 'NFC_Championship_Game',\n",
       " 1607446: 'Jane_Skinner',\n",
       " 1636784: 'Tom_Coughlin',\n",
       " 1730307: 'List_of_Super_Bowl_halftime_shows',\n",
       " 1739648: 'Half-time',\n",
       " 1795025: 'Phi_Beta_Sigma',\n",
       " 1795981: 'Kevin_Williams_(defensive_tackle)',\n",
       " 1811104: 'Vince_Wilfork',\n",
       " 1870317: 'Bam_Bam_Bigelow',\n",
       " 1874546: 'Arizona_Stadium',\n",
       " 1933931: 'History_of_American_football',\n",
       " 1942301: 'David_Tyree',\n",
       " 2019918: 'National_Football_League_Most_Valuable_Player_Award',\n",
       " 2145410: 'List_of_Super_Bowl_champions',\n",
       " 2265746: 'List_of_NFL_champions_(192069)',\n",
       " 2296131: '2004_NFL_season',\n",
       " 2310935: '2001_NFL_season',\n",
       " 2356756: 'Perfect_season',\n",
       " 2401717: 'Super_Bowl_XLV',\n",
       " 2425212: 'University_of_West_Alabama',\n",
       " 2457206: 'List_of_Jews_in_sports',\n",
       " 2514216: 'USC_Trojans_football',\n",
       " 2518539: 'Marshawn_Lynch',\n",
       " 2657614: 'Wes_Welker',\n",
       " 2709430: 'Darrell_Bevell',\n",
       " 2712459: 'List_of_current_National_Football_League_head_coaches',\n",
       " 2748329: 'University_of_Phoenix_Stadium',\n",
       " 2752810: 'Melissa_Stark',\n",
       " 2757650: 'Michele_Tafoya',\n",
       " 2767613: 'Eric_Johnson_(tight_end)',\n",
       " 3013667: 'Osi_Umenyiora',\n",
       " 3101148: 'Super_Bowl_ring',\n",
       " 3117784: 'List_of_Super_Bowl_broadcasters',\n",
       " 3266703: 'Chelsea_Handler',\n",
       " 3280564: 'Jon_Ryan',\n",
       " 3310305: 'John_Mara',\n",
       " 3357322: 'Jay_Cutler_(American_football)',\n",
       " 3367235: 'Tony_Romo',\n",
       " 3400724: 'List_of_National_Football_League_records_(individual)',\n",
       " 3420779: 'Grill_(jewelry)',\n",
       " 3495580: '2000_NFL_draft',\n",
       " 3545454: 'Brandon_Browner',\n",
       " 3613092: 'NBC_Sunday_Night_Football',\n",
       " 3790082: 'Josh_McDaniels',\n",
       " 3845824: 'History_of_the_New_England_Patriots',\n",
       " 3853051: 'Super_Bowl_XLVI',\n",
       " 3907666: 'Puppy_Bowl',\n",
       " 3913176: 'Victor_Kiam',\n",
       " 3972556: 'Super_Bowl_advertising',\n",
       " 3974331: \"I\\\\'m_going_to_Disney_World!\",\n",
       " 4009259: 'American_football_positions',\n",
       " 4040359: '2007_NFL_season',\n",
       " 4051607: 'Super_Bowl_XLVII',\n",
       " 4057023: 'Super_Bowl_XLVIII',\n",
       " 4074670: 'Safety_(gridiron_football_score)',\n",
       " 4097343: 'Rex_Ryan',\n",
       " 4438793: 'John_Harbaugh',\n",
       " 4470866: '2006_Rose_Bowl',\n",
       " 4540726: 'Jessica_Simpson',\n",
       " 4596541: 'The_More_You_Know',\n",
       " 4597853: 'The_Devil_Wears_Prada_(film)',\n",
       " 4779021: 'Edelman',\n",
       " 4816316: 'Dan_Connolly_(American_football)',\n",
       " 4920175: 'Brett_Favre',\n",
       " 4924848: 'Percy_Harvin',\n",
       " 4948520: 'Tarvaris_Jackson',\n",
       " 4958179: 'Stephen_Gostkowski',\n",
       " 5069759: 'Walter_Payton',\n",
       " 5211271: 'Cooper_Manning',\n",
       " 5476983: 'MetLife_Stadium',\n",
       " 5531401: 'Troy_Aikman',\n",
       " 5927295: 'List_of_Seattle_Seahawks_starting_quarterbacks',\n",
       " 6090474: '2005_Seattle_Seahawks_season',\n",
       " 6106741: 'Bill_Vinovich',\n",
       " 6142330: 'Michigan_Wolverines_football',\n",
       " 6197912: 'Wisconsin_Badgers_football',\n",
       " 6299440: 'Roger_Goodell',\n",
       " 6458042: 'Touchdown_celebration',\n",
       " 6549393: 'ATT_Stadium',\n",
       " 7251223: 'Chronic_traumatic_encephalopathy',\n",
       " 7590031: 'California_Golden_Bears_football',\n",
       " 7627929: 'Ray_Rice',\n",
       " 7719913: \"Levi\\\\'s_Stadium\",\n",
       " 7761399: 'Chad_Johnson',\n",
       " 7957263: 'Arizona_Wildcats_football',\n",
       " 7958109: 'Stanford_Cardinal_football',\n",
       " 8003211: 'Darrelle_Revis',\n",
       " 8140567: 'Danny_Woodhead',\n",
       " 8213797: 'Brennan_Carroll',\n",
       " 8240211: 'Rob_Ninkovich',\n",
       " 8378967: 'Field_goal',\n",
       " 8472771: 'Alan_Branch',\n",
       " 8566686: 'Clay_Travis',\n",
       " 8740516: '1985_Chicago_Bears_season',\n",
       " 9335777: 'List_of_Super_Bowl_records',\n",
       " 9521131: 'Cam_Newton',\n",
       " 9874058: 'Woodland_Hills_High_School',\n",
       " 9996756: '2007_New_England_Patriots_season',\n",
       " 9999304: 'History_of_the_Seattle_Seahawks',\n",
       " 10017169: 'Tony_McDaniel',\n",
       " 10276064: 'Bill_Nye',\n",
       " 10360273: 'List_of_stadiums_by_capacity',\n",
       " 10361287: 'List_of_American_football_stadiums_by_capacity',\n",
       " 10578676: 'List_of_New_England_Patriots_seasons',\n",
       " 10647805: 'List_of_NFL_franchise_owners',\n",
       " 10716061: '2001_New_England_Patriots_season',\n",
       " 10716158: '2003_New_England_Patriots_season',\n",
       " 10716211: '2004_New_England_Patriots_season',\n",
       " 10731886: 'List_of_New_England_Patriots_players',\n",
       " 10814816: 'List_of_current_National_Football_League_stadiums',\n",
       " 10853062: 'New_Minnesota_Stadium',\n",
       " 11003244: 'List_of_Super_Bowl_head_coaches',\n",
       " 11061916: 'Calvin_Johnson',\n",
       " 11388236: 'Seattle',\n",
       " 11581362: 'Jonathan_Kraft',\n",
       " 11596412: 'The_Kraft_Group',\n",
       " 11983460: 'Dan_Marino',\n",
       " 12013005: 'Matt_Patricia',\n",
       " 12287479: 'John_Madden',\n",
       " 12996777: 'Dan_Patrick',\n",
       " 13015878: 'Washington_(state)',\n",
       " 13602549: 'List_of_Super_Bowl_officials',\n",
       " 13886661: 'Colin_Kaepernick',\n",
       " 14110730: 'Uniform_number_(American_football)',\n",
       " 14202514: '1972_Miami_Dolphins_season',\n",
       " 14206260: 'Intentional_grounding',\n",
       " 14411473: 'Patrick_Chung',\n",
       " 14470855: 'Joe_Flacco',\n",
       " 14598456: 'List_of_Seattle_Seahawks_players',\n",
       " 15066284: 'Martellus_Bennett',\n",
       " 15143707: 'Jerod_Mayo',\n",
       " 15300612: '2007_New_England_Patriots_videotaping_controversy',\n",
       " 15376140: 'List_of_national_anthem_performers_at_the_Super_Bowl',\n",
       " 15602884: 'Helmet_Catch',\n",
       " 15731138: 'Brandon_LaFell',\n",
       " 15931987: 'Garrett_Gilbert',\n",
       " 16083031: 'Cliff_Avril',\n",
       " 16096383: 'List_of_Heisman_Trophy_winners',\n",
       " 16281523: 'Myra_Kraft',\n",
       " 16338520: 'List_of_quarterbacks_with_multiple_Super_Bowl_starts',\n",
       " 16715773: 'List_of_New_England_Patriots_head_coaches',\n",
       " 17005017: 'Super_Bowl_curse',\n",
       " 17145641: 'Tim_Hightower',\n",
       " 17155306: 'Danny_Amendola',\n",
       " 17512190: 'List_of_Seattle_Seahawks_head_coaches',\n",
       " 18582416: 'Tim_Tebow',\n",
       " 18784650: 'Super_Bowl_XLIX',\n",
       " 18919631: 'Kyle_Arrington',\n",
       " 18951490: 'American_football',\n",
       " 19164523: 'Steven_Hauschka',\n",
       " 19333610: 'History_of_the_National_Football_League',\n",
       " 19850127: 'National_Football_League_team_captains',\n",
       " 20297793: 'Kansas_City_Chiefs',\n",
       " 20315592: 'Eric_Decker',\n",
       " 20383149: 'Clay_Matthews_III',\n",
       " 20722495: 'Max_Unger',\n",
       " 20816299: 'Jonathan_Casillas',\n",
       " 20839915: 'List_of_NFL_starting_quarterbacks',\n",
       " 20848416: 'Golden_Tate',\n",
       " 20907151: 'LeGarrette_Blount',\n",
       " 21062350: 'Dan_Gronkowski',\n",
       " 21080308: '2010_NFL_draft',\n",
       " 21143591: 'Russell_Wilson',\n",
       " 21256161: 'List_of_New_England_Patriots_starting_quarterbacks',\n",
       " 21274733: 'Penalty_(gridiron_football)',\n",
       " 21298516: 'List_of_Super_Bowl_lead-out_programs',\n",
       " 21435434: 'List_of_Denver_Broncos_starting_quarterbacks',\n",
       " 22334876: 'Ickey_Shuffle',\n",
       " 22533313: \"Dont\\\\'a_Hightower\",\n",
       " 22567388: 'Sebastian_Vollmer',\n",
       " 22578349: 'Julian_Edelman',\n",
       " 22632363: 'Rob_Gronkowski',\n",
       " 22910646: 'Michael_Bennett_(defensive_lineman)',\n",
       " 23408886: 'St._Louis_Rams',\n",
       " 23410875: 'Earl_Thomas_(defensive_back)',\n",
       " 23713760: 'Two-point_conversion',\n",
       " 23807078: 'Arthur_Jones_(American_football)',\n",
       " 23897464: 'Kam_Chancellor',\n",
       " 23997010: 'Malcolm_Smith_(American_football)',\n",
       " 24169174: 'Steve_Belichick',\n",
       " 24421512: 'Andrew_Luck',\n",
       " 25193857: 'Aaron_Hernandez',\n",
       " 25365986: 'Luke_Kuechly',\n",
       " 25577385: '2011_NFL_season',\n",
       " 25617159: 'West_Alabama_Tigers_football',\n",
       " 25661865: 'B._J._Daniels_(American_football)',\n",
       " 25797011: 'Tony_Moeaki',\n",
       " 25819003: 'Devin_McCourty',\n",
       " 25882214: 'John_Schneider_(American_football_executive)',\n",
       " 26114145: 'List_of_Super_Bowl_commercials',\n",
       " 27090149: 'Michael_Hoomanawanui',\n",
       " 27108790: 'TV_Everywhere',\n",
       " 27710383: 'University_of_Southern_California_athletics_scandal',\n",
       " 27767199: 'Chris_Gronkowski',\n",
       " 27892280: 'One_Madison',\n",
       " 28366740: '2013_NFL_season',\n",
       " 28895193: 'Shane_Vereen',\n",
       " 28932670: '2012_NFL_draft',\n",
       " 29103924: 'Pacific_Tigers_football',\n",
       " 29297737: 'Brandon_Bolden',\n",
       " 29409220: 'Nate_Solder',\n",
       " 29724707: '2011_New_York_Giants_season',\n",
       " 29740298: 'J._J._Watt',\n",
       " 30295575: 'Dan_Quinn_(American_football)',\n",
       " 30295983: '2011_New_England_Patriots_season',\n",
       " 30876210: 'Conversion_(gridiron_football)',\n",
       " 30963487: 'BMW_i3',\n",
       " 31106750: 'Will_Tukuafu',\n",
       " 31638243: 'K._J._Wright',\n",
       " 31639348: 'Richard_Sherman_(American_football)',\n",
       " 31659488: 'Byron_Maxwell',\n",
       " 32553832: 'Ricardo_Lockette',\n",
       " 32577846: 'Doug_Baldwin_(American_football)',\n",
       " 32697964: 'Sealver_Siliga',\n",
       " 32926399: 'Bruce_Irvin_(American_football)',\n",
       " 33468671: 'Robert_Turbin',\n",
       " 33522108: 'Jermaine_Kearse',\n",
       " 33544057: 'Super_Bowl_Sunday',\n",
       " 33614753: 'Gronkowski',\n",
       " 34232609: '2012_Baltimore_Ravens_season',\n",
       " 34240727: 'Chandler_Jones',\n",
       " 34314734: 'Ryan_Allen_(American_football)',\n",
       " 34557771: 'Bobby_Wagner',\n",
       " 35255078: 'Ignatius_Gronkowski',\n",
       " 35649572: 'Jeremy_Lane_(American_football)',\n",
       " 35650384: 'Nate_Ebner',\n",
       " 35651017: 'J._R._Sweezy',\n",
       " 35653588: 'NFL_Top_100',\n",
       " 35675414: '2014_NFL_draft',\n",
       " 36868827: 'Jesse_Williams_(American_football)',\n",
       " 37365233: 'Ricki_Noel_Lander',\n",
       " 37405155: 'Chris_Matthews_(gridiron_football)',\n",
       " 37412403: 'Super_Bowl_LI',\n",
       " 37805092: 'Ha_Ha_Clinton-Dix',\n",
       " 37903273: 'Logan_Ryan',\n",
       " 37982175: '2013_Denver_Broncos_season',\n",
       " 37982259: '2013_Seattle_Seahawks_season',\n",
       " 38089671: '201314_NFL_playoffs',\n",
       " 38120656: 'Tharold_Simon',\n",
       " 38404932: '2014_NFL_season',\n",
       " 38420494: 'Super_Bowl_XLVII_halftime_show',\n",
       " 38423390: 'Super_Bowl_XLVI_halftime_show',\n",
       " 38464942: '2015_NFL_season',\n",
       " 38659658: 'Jamie_Collins_(American_football)',\n",
       " 39239973: 'Luke_Willson',\n",
       " 39479157: 'Clash_of_Clans',\n",
       " 40148429: 'Super_Bowl_LII',\n",
       " 40432363: 'Derrick_Coleman_(American_football)',\n",
       " 40566429: 'The_Wedding_Ringer',\n",
       " 40568202: 'James_Develin',\n",
       " 41245594: 'Jimmy_Garoppolo',\n",
       " 41351577: 'Bryan_Stork',\n",
       " 41378638: '2014_Seattle_Seahawks_season',\n",
       " 41378687: '2014_New_England_Patriots_season',\n",
       " 41479971: 'Legion_of_Boom_(Seattle_Seahawks)',\n",
       " 41767065: '2015_NFL_draft',\n",
       " 41825918: 'Super_Bowl_XLVIII_halftime_show',\n",
       " 42449465: '2015_Pro_Bowl',\n",
       " 42713511: 'Justin_Britt',\n",
       " 42762142: 'Microsoft_Surface_Pro_3',\n",
       " 42968661: 'Super_Bowl_50',\n",
       " 43708971: 'Malcolm_Butler_(American_football)',\n",
       " 44076048: 'Super_Bowl_XLIX_halftime_show',\n",
       " 44239128: '201415_NFL_playoffs',\n",
       " 44486931: 'Ann_Mara',\n",
       " 45165773: 'Deflategate',\n",
       " 45280822: 'Malcolm_Butler'}"
      ]
     },
     "execution_count": 12,
     "metadata": {},
     "output_type": "execute_result"
    }
   ],
   "source": [
    "idsLabels"
   ]
  },
  {
   "cell_type": "markdown",
   "metadata": {},
   "source": [
    "### GO TO PLOT SECTION\n",
    "### Filtering for particular clusters (Run only if needed)"
   ]
  },
  {
   "cell_type": "markdown",
   "metadata": {},
   "source": [
    "#### 1. SB: Only NFL teams"
   ]
  },
  {
   "cell_type": "code",
   "execution_count": 13,
   "metadata": {
    "collapsed": true
   },
   "outputs": [],
   "source": [
    "nfl_teams = ['Buffalo_Bills','Miami_Dolphins','New_England_Patriots','New_York_Jets','Baltimore_Ravens','Cincinnati_Bengals','Cleveland_Browns','Pittsburgh_Steelers','Houston_Texans','Indianapolis_Colts','Jacksonville_Jaguars','Tennessee_Titans','Denver_Broncos','Kansas_City_Chiefs','Los_Angeles_Chargers','Oakland_Raiders','Dallas_Cowboys','New_York_Giants','Philadelphia_Eagles','Washington_Redskins','Chicago_Bears','Detroit_Lions','Green_Bay_Packers','Minnesota_Vikings','Atlanta_Falcons','Carolina_Panthers','New_Orleans_Saints','Tampa_Bay_Buccaneers','Arizona_Cardinals','Los_Angeles_Rams','San_Francisco_49ers','Seattle_Seahawks']"
   ]
  },
  {
   "cell_type": "code",
   "execution_count": 14,
   "metadata": {
    "collapsed": false
   },
   "outputs": [
    {
     "data": {
      "text/plain": [
       "30"
      ]
     },
     "execution_count": 14,
     "metadata": {},
     "output_type": "execute_result"
    }
   ],
   "source": [
    "count = 0\n",
    "for team in nfl_teams:\n",
    "    if team in idsLabels.values():\n",
    "        count += 1\n",
    "count"
   ]
  },
  {
   "cell_type": "code",
   "execution_count": 15,
   "metadata": {
    "collapsed": false
   },
   "outputs": [],
   "source": [
    "nfl_labels = []\n",
    "for team in nfl_teams:\n",
    "    for label in idsLabels_:\n",
    "        if label[1] == team:\n",
    "            nfl_labels.append(label)"
   ]
  },
  {
   "cell_type": "code",
   "execution_count": 16,
   "metadata": {
    "collapsed": true
   },
   "outputs": [],
   "source": [
    "import string\n",
    "printable = set(string.printable)\n",
    "nfl_labels = map(lambda l: (int(l[0]), filter(lambda x: x in printable, l[1])), nfl_labels)"
   ]
  },
  {
   "cell_type": "code",
   "execution_count": 17,
   "metadata": {
    "collapsed": true
   },
   "outputs": [],
   "source": [
    "nfl_labels = dict(nfl_labels)"
   ]
  },
  {
   "cell_type": "code",
   "execution_count": 18,
   "metadata": {
    "collapsed": false
   },
   "outputs": [],
   "source": [
    "contentSB = []\n",
    "for c in content:\n",
    "    if c[0] in nfl_labels.keys():\n",
    "        contentSB.append(c)\n",
    "content = contentSB"
   ]
  },
  {
   "cell_type": "code",
   "execution_count": 19,
   "metadata": {
    "collapsed": true
   },
   "outputs": [],
   "source": [
    "idsLabels = nfl_labels"
   ]
  },
  {
   "cell_type": "markdown",
   "metadata": {},
   "source": [
    "#### 2. CHARLIE. Remove particular pages by index in the \"content\" array"
   ]
  },
  {
   "cell_type": "code",
   "execution_count": null,
   "metadata": {
    "collapsed": false
   },
   "outputs": [],
   "source": [
    "indexToDelete = [2,6,12,18,20]\n",
    "deleted = 0\n",
    "\n",
    "for i in indexToDelete:\n",
    "    i -= deleted\n",
    "    deleted += 1\n",
    "    del content[i]\n",
    "    del ids[i]"
   ]
  },
  {
   "cell_type": "markdown",
   "metadata": {},
   "source": [
    "### PLOT"
   ]
  },
  {
   "cell_type": "code",
   "execution_count": 20,
   "metadata": {
    "collapsed": true
   },
   "outputs": [],
   "source": [
    "months = ['October', 'November', 'December', 'January', 'February', 'March', 'April']"
   ]
  },
  {
   "cell_type": "code",
   "execution_count": 21,
   "metadata": {
    "collapsed": false
   },
   "outputs": [],
   "source": [
    "x_mon = [i for i in np.arange(0, len(content[0]), 7*24)]\n",
    "x_sat = [i for i in np.arange(5*24, len(content[0]), 7*24)]\n",
    "x_month = [i for i in np.arange(8*24, len(content[0]), 30*24)]"
   ]
  },
  {
   "cell_type": "code",
   "execution_count": 22,
   "metadata": {
    "collapsed": false
   },
   "outputs": [],
   "source": [
    "x_month[1] = x_month[1] + 24 #October\n",
    "x_month[2] = x_month[2] + 24 #November\n",
    "x_month[3] = x_month[3] + 48 #December\n",
    "x_month[4] = x_month[4] + 72 #January\n",
    "x_month[5] = x_month[5] + 24 #February\n",
    "x_month[6] = x_month[6] + 48 #March\n",
    "x_month[7] = x_month[7] + 48 #April"
   ]
  },
  {
   "cell_type": "code",
   "execution_count": 23,
   "metadata": {
    "collapsed": true
   },
   "outputs": [],
   "source": [
    "from pylab import rcParams\n",
    "rcParams['font.family'] = 'sans-serif'\n",
    "rcParams['font.sans-serif'] = ['Arial']"
   ]
  },
  {
   "cell_type": "code",
   "execution_count": 24,
   "metadata": {
    "collapsed": true
   },
   "outputs": [],
   "source": [
    "sorted_content = sorted(content, key = lambda c: c[0])"
   ]
  },
  {
   "cell_type": "code",
   "execution_count": 25,
   "metadata": {
    "collapsed": true
   },
   "outputs": [],
   "source": [
    "ids = idsLabels.keys()\n",
    "ids.sort()\n",
    "# ids = ids # for Charlie neighbors filtering. If needed"
   ]
  },
  {
   "cell_type": "markdown",
   "metadata": {},
   "source": [
    "#### Activations"
   ]
  },
  {
   "cell_type": "code",
   "execution_count": null,
   "metadata": {
    "collapsed": false,
    "scrolled": true
   },
   "outputs": [],
   "source": [
    "rcParams['figure.figsize'] = 50, 70\n",
    "rcParams['xtick.labelsize'] = 50\n",
    "rcParams['ytick.labelsize'] = 50\n",
    "plt.imshow(map(lambda l: l[0:], sorted_content), cmap=\"Blues\", interpolation='nearest', aspect='auto', norm=colors.PowerNorm(gamma=1./10.))\n",
    "plt.colorbar()\n",
    "plt.xticks([i + 15*24 for i in x_month], [month for month in months])\n",
    "plt.yticks([i for i in range(0,len(sorted_content))], [idsLabels[x] for x in ids])\n",
    "# for xc in x_mon:\n",
    "#     plt.axvline(x=xc, linewidth=1, color = 'b')\n",
    "for xc in x_month:\n",
    "    plt.axvline(x=xc, linewidth=1, color = 'r')\n",
    "# for xc in x_sat:\n",
    "#     plt.axvline(x=xc, linewidth=1, color = 'g')"
   ]
  },
  {
   "cell_type": "markdown",
   "metadata": {
    "collapsed": true
   },
   "source": [
    "### Overall cluster activity"
   ]
  },
  {
   "cell_type": "code",
   "execution_count": 26,
   "metadata": {
    "collapsed": true
   },
   "outputs": [],
   "source": [
    "content_t = np.transpose(map(lambda l: l[1:],content))\n",
    "summary = [sum(l) for l in content_t]"
   ]
  },
  {
   "cell_type": "code",
   "execution_count": 27,
   "metadata": {
    "collapsed": true
   },
   "outputs": [],
   "source": [
    "from math import log"
   ]
  },
  {
   "cell_type": "markdown",
   "metadata": {},
   "source": [
    "Get Google trends"
   ]
  },
  {
   "cell_type": "code",
   "execution_count": 28,
   "metadata": {
    "collapsed": true
   },
   "outputs": [],
   "source": [
    "from pytrends.request import TrendReq\n",
    "import pandas as pd"
   ]
  },
  {
   "cell_type": "code",
   "execution_count": 29,
   "metadata": {
    "collapsed": false
   },
   "outputs": [],
   "source": [
    "# keyword = ['Super Bowl', 'Germanwings Flight 9525', 'Charlie Hebdo', 'Ferguson unrest']\n",
    "keyword = ['Super Bowl']\n",
    "pytrend = TrendReq(hl='en-WORLD')\n",
    "pytrend.build_payload(kw_list=keyword, timeframe='2014-09-23 2015-04-30', geo='', gprop='')"
   ]
  },
  {
   "cell_type": "code",
   "execution_count": 30,
   "metadata": {
    "collapsed": false
   },
   "outputs": [
    {
     "data": {
      "text/plain": [
       "(220, 2)"
      ]
     },
     "execution_count": 30,
     "metadata": {},
     "output_type": "execute_result"
    }
   ],
   "source": [
    "interest_over_time_df = pytrend.interest_over_time()\n",
    "interest_over_time_df.shape"
   ]
  },
  {
   "cell_type": "code",
   "execution_count": 31,
   "metadata": {
    "collapsed": false
   },
   "outputs": [],
   "source": [
    "interest_over_time_df = interest_over_time_df.drop(['isPartial'], axis=1)"
   ]
  },
  {
   "cell_type": "code",
   "execution_count": 32,
   "metadata": {
    "collapsed": false
   },
   "outputs": [],
   "source": [
    "summary_day = [sum(summary[i:i + 24]) for i in xrange(0, len(summary), 24)]\n",
    "summary_day = [x*100.0 / max(summary_day) for x in summary_day]"
   ]
  },
  {
   "cell_type": "code",
   "execution_count": 33,
   "metadata": {
    "collapsed": false
   },
   "outputs": [],
   "source": [
    "interest_over_time_df['Proposed'] = summary_day\n",
    "interest_over_time_df.columns = ['Google Trends', 'Proposed']"
   ]
  },
  {
   "cell_type": "code",
   "execution_count": 34,
   "metadata": {
    "collapsed": true
   },
   "outputs": [],
   "source": [
    "# plt.style.use(['dark_background', 'seaborn-talk'])"
   ]
  },
  {
   "cell_type": "code",
   "execution_count": 35,
   "metadata": {
    "collapsed": true
   },
   "outputs": [],
   "source": [
    "rcParams['figure.figsize'] = 25, 12\n",
    "rcParams['xtick.labelsize'] = 40\n",
    "rcParams['ytick.labelsize'] = 50"
   ]
  },
  {
   "cell_type": "code",
   "execution_count": 36,
   "metadata": {
    "collapsed": false
   },
   "outputs": [],
   "source": [
    "from itertools import cycle, islice\n",
    "my_colors = list(islice(cycle(['#0099FF', '#990033']), None, len(interest_over_time_df)))"
   ]
  },
  {
   "cell_type": "code",
   "execution_count": null,
   "metadata": {
    "collapsed": false
   },
   "outputs": [],
   "source": [
    "interest_over_time_df.plot(linewidth=5, color=my_colors)\n",
    "# plt.title('Charlie Hebdo')\n",
    "plt.xlabel('')\n",
    "plt.legend(prop={'size':34}, loc=2)"
   ]
  },
  {
   "cell_type": "code",
   "execution_count": null,
   "metadata": {
    "collapsed": false
   },
   "outputs": [],
   "source": [
    "# plt.savefig(\"ferguson_activations.pdf\", format='pdf', dpi=200)"
   ]
  },
  {
   "cell_type": "markdown",
   "metadata": {},
   "source": [
    "#### Summary timeline"
   ]
  },
  {
   "cell_type": "code",
   "execution_count": null,
   "metadata": {
    "collapsed": false
   },
   "outputs": [],
   "source": [
    "rcParams['figure.figsize'] = 25, 10\n",
    "rcParams['xtick.labelsize'] = 40\n",
    "rcParams['ytick.labelsize'] = 50\n",
    "# plt.grid()\n",
    "# for xc in x_mon:\n",
    "#     plt.axvline(x=xc, linewidth=1, color = 'b')\n",
    "for xc in x_month:\n",
    "    plt.axvline(x=xc, linewidth=1, color = 'black')\n",
    "# for xc in x_sat:\n",
    "#     plt.axvline(x=xc, linewidth=1, color = 'g')\n",
    "x_ticks = [i + 15*24 for i in x_month]\n",
    "x_ticks[-1] -= 15*24\n",
    "plt.xticks(x_ticks, [month for month in months])\n",
    "plt.ticklabel_format(style='sci', axis='y', scilimits=(0,0))\n",
    "plt.plot(summary, 'r', linewidth=3)"
   ]
  },
  {
   "cell_type": "markdown",
   "metadata": {},
   "source": [
    "#### Activations + Summary timeline"
   ]
  },
  {
   "cell_type": "code",
   "execution_count": 37,
   "metadata": {
    "collapsed": true
   },
   "outputs": [],
   "source": [
    "import itertools\n",
    "gt = interest_over_time_df['Google Trends'].tolist()\n",
    "proposed = interest_over_time_df['Proposed'].tolist()\n",
    "gt = list(itertools.chain.from_iterable(itertools.repeat(x, 24) for x in gt))\n",
    "proposed = list(itertools.chain.from_iterable(itertools.repeat(x, 24) for x in proposed))"
   ]
  },
  {
   "cell_type": "code",
   "execution_count": 38,
   "metadata": {
    "collapsed": true
   },
   "outputs": [],
   "source": [
    "def savitzky_golay(y, window_size=747, order=2, deriv=0, rate=1):\n",
    "    r\"\"\"Smooth (and optionally differentiate) data with a Savitzky-Golay filter.\n",
    "    The Savitzky-Golay filter removes high frequency noise from data.\n",
    "    It has the advantage of preserving the original shape and\n",
    "    features of the signal better than other types of filtering\n",
    "    approaches, such as moving averages techniques.\n",
    "    Parameters\n",
    "    ----------\n",
    "    y : array_like, shape (N,)\n",
    "        the values of the time history of the signal.\n",
    "    window_size : int\n",
    "        the length of the window. Must be an odd integer number.\n",
    "    order : int\n",
    "        the order of the polynomial used in the filtering.\n",
    "        Must be less then `window_size` - 1.\n",
    "    deriv: int\n",
    "        the order of the derivative to compute (default = 0 means only smoothing)\n",
    "    Returns\n",
    "    -------\n",
    "    ys : ndarray, shape (N)\n",
    "        the smoothed signal (or it's n-th derivative).\n",
    "    Notes\n",
    "    -----\n",
    "    The Savitzky-Golay is a type of low-pass filter, particularly\n",
    "    suited for smoothing noisy data. The main idea behind this\n",
    "    approach is to make for each point a least-square fit with a\n",
    "    polynomial of high order over a odd-sized window centered at\n",
    "    the point.\n",
    "    Examples\n",
    "    --------\n",
    "    t = np.linspace(-4, 4, 500)\n",
    "    y = np.exp( -t**2 ) + np.random.normal(0, 0.05, t.shape)\n",
    "    ysg = savitzky_golay(y, window_size=31, order=4)\n",
    "    import matplotlib.pyplot as plt\n",
    "    plt.plot(t, y, label='Noisy signal')\n",
    "    plt.plot(t, np.exp(-t**2), 'k', lw=1.5, label='Original signal')\n",
    "    plt.plot(t, ysg, 'r', label='Filtered signal')\n",
    "    plt.legend()\n",
    "    plt.show()\n",
    "    References\n",
    "    ----------\n",
    "    .. [1] A. Savitzky, M. J. E. Golay, Smoothing and Differentiation of\n",
    "       Data by Simplified Least Squares Procedures. Analytical\n",
    "       Chemistry, 1964, 36 (8), pp 1627-1639.\n",
    "    .. [2] Numerical Recipes 3rd Edition: The Art of Scientific Computing\n",
    "       W.H. Press, S.A. Teukolsky, W.T. Vetterling, B.P. Flannery\n",
    "       Cambridge University Press ISBN-13: 9780521880688\n",
    "    \"\"\"\n",
    "    import numpy as np\n",
    "    from math import factorial\n",
    "\n",
    "    try:\n",
    "        window_size = np.abs(np.int(window_size))\n",
    "        order = np.abs(np.int(order))\n",
    "    except ValueError, msg:\n",
    "        raise ValueError(\"window_size and order have to be of type int\")\n",
    "    if window_size % 2 != 1 or window_size < 1:\n",
    "        raise TypeError(\"window_size size must be a positive odd number\")\n",
    "    if window_size < order + 2:\n",
    "        raise TypeError(\"window_size is too small for the polynomials order\")\n",
    "    order_range = range(order+1)\n",
    "    half_window = (window_size -1) // 2\n",
    "    # precompute coefficients\n",
    "    b = np.mat([[k**i for i in order_range] for k in range(-half_window, half_window+1)])\n",
    "    m = np.linalg.pinv(b).A[deriv] * rate**deriv * factorial(deriv)\n",
    "    # pad the signal at the extremes with\n",
    "    # values taken from the signal itself\n",
    "    firstvals = y[0] - np.abs( y[1:half_window+1][::-1] - y[0] )\n",
    "    lastvals = y[-1] + np.abs(y[-half_window-1:-1][::-1] - y[-1])\n",
    "    y = np.concatenate((firstvals, y, lastvals))\n",
    "    return np.convolve( m[::-1], y, mode='valid')"
   ]
  },
  {
   "cell_type": "code",
   "execution_count": 39,
   "metadata": {
    "collapsed": false
   },
   "outputs": [],
   "source": [
    "gt = savitzky_golay(np.array(gt), window_size=25)\n",
    "proposed = savitzky_golay(np.array(proposed), window_size=25)"
   ]
  },
  {
   "cell_type": "code",
   "execution_count": 40,
   "metadata": {
    "collapsed": false,
    "scrolled": false
   },
   "outputs": [],
   "source": [
    "# rcParams['figure.figsize'] = 90, 60\n",
    "# rcParams['xtick.labelsize'] = 80\n",
    "# rcParams['ytick.labelsize'] = 50\n",
    "# plt.rcParams['axes.facecolor'] = 'black'\n",
    "# rcParams[\"ytick.color\"] = \"w\"\n",
    "# rcParams[\"xtick.color\"] = \"w\"\n",
    "# rcParams[\"figure.facecolor\"] = '#121212'\n",
    "\n",
    "# ids = idsLabels.keys()\n",
    "# ids.sort()\n",
    "# scaling_factor = 0.0002\n",
    "# #plot overall statistics\n",
    "# plt.plot([s * scaling_factor - 0.5 for s in summary], '#00FF00', linewidth=3)\n",
    "# plt.plot([s * scaling_factor - 0.5 for s in summary], '#00FF00', linewidth=7)\n",
    "# plt.ylim([-0.5, len(content) - 0.5])\n",
    "# #plot activations\n",
    "# plt.imshow(map(lambda l: l[0:], sorted_content), cmap=\"gray\", interpolation='nearest', aspect='auto', norm=colors.PowerNorm(gamma=1./10.))\n",
    "# plt.yticks([i for i in range(0,len(sorted_content))], [idsLabels[x] for x in ids])\n",
    "# x_ticks = [i + 15*24 for i in x_month]\n",
    "# x_ticks[-1] -= 15*24\n",
    "# plt.xticks(x_ticks, [month for month in months])\n",
    "# # for xc in x_mon:\n",
    "# #     plt.axvline(x=xc, linewidth=1, color = 'b')\n",
    "# for xc in x_month:\n",
    "#     plt.axvline(x=xc, linewidth=2, color = 'w')\n",
    "# # for xc in x_sat:\n",
    "# #     plt.axvline(x=xc, linewidth=1, color = 'g')\n",
    "# plt.colorbar()\n",
    "\n",
    "# # plt.show()\n",
    "rcParams['figure.figsize'] = 90, 40\n",
    "rcParams['xtick.labelsize'] = 70\n",
    "rcParams['ytick.labelsize'] = 70\n",
    "# rcParams[\"ytick.color\"] = \"w\"\n",
    "# rcParams[\"xtick.color\"] = \"w\"\n",
    "# rcParams[\"figure.facecolor\"] = '#121212'\n",
    "\n",
    "ids = idsLabels.keys()\n",
    "ids.sort()\n",
    "scaling_factor = 0.0001\n",
    "#plot overall statistics\n",
    "# plt.plot([s * scaling_factor - 0.5 for s in summary], '#00FF00', linewidth=3)\n",
    "# plt.plot([s * scaling_factor - 0.5 for s in summary], 'r', linewidth=3)\n",
    "# interest_over_time_df.plot(linewidth=5, color=my_colors)\n",
    "plt.plot([s * 0.2 - 0.5 for s in gt], my_colors[0], linewidth=5)\n",
    "plt.plot([s * 0.2 - 0.5 for s in proposed], 'red', linewidth=5)\n",
    "plt.ylim([-0.5, len(content) - 0.5])\n",
    "#plot activations\n",
    "plt.imshow(map(lambda l: l[0:], sorted_content), cmap=\"Greys\", interpolation='nearest', aspect='auto', norm=colors.PowerNorm(gamma=1./30.))\n",
    "plt.yticks([i for i in range(0,len(sorted_content))], [idsLabels[x].replace(\"_\", \" \") for x in ids])\n",
    "x_ticks = [i + 15*24 for i in x_month]\n",
    "x_ticks[-1] -= 15*24\n",
    "plt.xticks(x_ticks, [month for month in months])\n",
    "plt.legend(['Google Trends', 'Proposed'], prop={'size':70})\n",
    "# for xc in x_mon:\n",
    "#     plt.axvline(x=xc, linewidth=1, color = 'b')\n",
    "# for xc in x_month:\n",
    "#     plt.axvline(x=xc, linewidth=5, color = 'black')\n",
    "# for xc in x_sat:\n",
    "#     plt.axvline(x=xc, linewidth=1, color = 'g')\n",
    "from matplotlib import ticker\n",
    "cb = plt.colorbar()\n",
    "tick_locator = ticker.MaxNLocator(nbins=3)\n",
    "cb.locator = tick_locator\n",
    "cb.update_ticks()"
   ]
  },
  {
   "cell_type": "code",
   "execution_count": 41,
   "metadata": {
    "collapsed": false
   },
   "outputs": [],
   "source": [
    "plt.savefig(\"activity.svg\", format='svg',dpi=200, bbox_inches='tight')"
   ]
  },
  {
   "cell_type": "code",
   "execution_count": null,
   "metadata": {
    "collapsed": true
   },
   "outputs": [],
   "source": []
  }
 ],
 "metadata": {
  "kernelspec": {
   "display_name": "Python 2",
   "language": "python",
   "name": "python2"
  },
  "language_info": {
   "codemirror_mode": {
    "name": "ipython",
    "version": 2
   },
   "file_extension": ".py",
   "mimetype": "text/x-python",
   "name": "python",
   "nbconvert_exporter": "python",
   "pygments_lexer": "ipython2",
   "version": "2.7.15rc1"
  }
 },
 "nbformat": 4,
 "nbformat_minor": 1
}
