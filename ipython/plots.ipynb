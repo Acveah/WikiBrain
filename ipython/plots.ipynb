{
 "cells": [
  {
   "cell_type": "code",
   "execution_count": 1,
   "metadata": {
    "collapsed": false
   },
   "outputs": [],
   "source": [
    "import numpy as np\n",
    "import matplotlib.pyplot as plt\n",
    "from matplotlib.legend_handler import HandlerLine2D\n",
    "plt.style.use('seaborn-colorblind')\n",
    "# %matplotlib inline"
   ]
  },
  {
   "cell_type": "code",
   "execution_count": 2,
   "metadata": {
    "collapsed": true
   },
   "outputs": [],
   "source": [
    "modularity_full = np.array([2502,2366,1981,1926,1669,1536,1112,949,924,888,759,732,730,690,663,619,584,575,529,458,417,406,393,387,379,379,377,355,354,333,328,321,308,293,274,265,254,245,232,224,222,220,220,216,205,204,200,199,196,195,192,191,184,180,180,173,168,167,165,160,158,158,157,148,147,147,146,143,142,142,135,129,123,117,113,96,95,89,82,81,71,63,61,53,49,45,44,39,32,26,24,24,23,22,21,17,17,15,13,13,13,11,11,11,11,11,10,10,10,10,10,9,9,9,9,9,8,8,8,8,8,8,7,7,7,7,7,7,7,7,7,7,6,6,6,6,6,6,6,6,6,5,5,5,5,5,5,5,5,5,5,5,5,5,5,5,4,4,4,4,4,4,4,4,3])\n",
    "modularity_filtered = np.array([17436,9053,7362,6.99E+03,6957,6.74E+03,6370,5958,5.08E+03,4920,4.68E+03,4560,4137,3899,2.79E+03,2242,2.15E+03,2109,2.01E+03,2007,1.51E+03,1.24E+03,1.10E+03,9.63E+02,870,8.49E+02,7.81E+02,6.11E+02,5.11E+02,4.48E+02,4.07E+02,3.06E+02,2.17E+02,2.00E+02,1.63E+02,8.60E+01,6.30E+01])"
   ]
  },
  {
   "cell_type": "code",
   "execution_count": 3,
   "metadata": {
    "collapsed": true
   },
   "outputs": [],
   "source": [
    "# font_labels = {'family': 'arial',\n",
    "# #         'color':  'darkred',\n",
    "#         'weight': 'normal',\n",
    "#         'size': 18,\n",
    "#         }\n",
    "\n",
    "# font_axis = {'family': 'arial',\n",
    "# #         'color':  'darkred',\n",
    "#         'weight': 'normal',\n",
    "#         'size': 12,\n",
    "#         }"
   ]
  },
  {
   "cell_type": "markdown",
   "metadata": {},
   "source": [
    "#### Modularity distribution"
   ]
  },
  {
   "cell_type": "code",
   "execution_count": 4,
   "metadata": {
    "collapsed": false
   },
   "outputs": [],
   "source": [
    "import random\n",
    "\n",
    "# # t = sorted(modularity_full, key=lambda k: random.random())\n",
    "# t = modularity_full\n",
    "# # log y axis\n",
    "# line1, = plt.plot(t, np.arange(3, len(t)+3), color=\"None\", marker='o', markerfacecolor='#43459d', label=\"Learned\")\n",
    "# # line2, = plt.plot(sorted(modularity_filtered, key=lambda k: random.random()), np.arange(3, len(modularity_filtered)+3), color=\"None\", marker='o', markerfacecolor='#e2431e', label=\"Initial\")\n",
    "# line2, = plt.plot(modularity_filtered, np.arange(3, len(modularity_filtered)+3), color=\"None\", marker='o', markerfacecolor='#e2431e', label=\"Initial\")\n",
    "# plt.legend(handler_map={line1: HandlerLine2D(numpoints=1)}, prop=font_axis)\n",
    "# plt.xscale('log')\n",
    "# plt.xlabel(\"Community size\", fontdict=font_labels)\n",
    "# plt.ylabel(\"Number of communities\", fontdict=font_labels)\n",
    "# plt.xticks(fontsize=14, family='Arial')\n",
    "# plt.yticks(fontsize=14, family='Arial')\n",
    "# # plt.grid(True, which='major', color='black', linestyle='-')\n",
    "# plt.savefig(\"modularity_combo.pdf\", format=\"PDF\", bbox_inches='tight')"
   ]
  },
  {
   "cell_type": "code",
   "execution_count": 5,
   "metadata": {
    "collapsed": false
   },
   "outputs": [],
   "source": [
    "# plt.hist(modularity_full, bins=np.logspace(0,9, num=40, base=3.0), color='r',alpha=0.7, label=\"Learned graph\")\n",
    "# plt.hist(modularity_filtered, bins=np.logspace(0,9, num=40, base=3.0), alpha=0.7, color='#2b8cbe', label=\"Initial graph\")\n",
    "# plt.xscale('log', nonposy='clip')\n",
    "# plt.legend(handler_map={line1: HandlerLine2D(numpoints=2)}, prop=font_axis)\n",
    "# # plt.yscale('log', nonposy='clip')\n",
    "# plt.xlabel(\"Community size\", fontdict=font_labels)\n",
    "# plt.ylabel(\"Number of communities\", fontdict=font_labels)\n",
    "# plt.xticks(fontsize=14, family='Arial')\n",
    "# plt.yticks(fontsize=14, family='Arial')\n",
    "# plt.savefig(\"modularity_combo.pdf\", format=\"PDF\", bbox_inches='tight')"
   ]
  },
  {
   "cell_type": "markdown",
   "metadata": {},
   "source": [
    "#### Degree distribution"
   ]
  },
  {
   "cell_type": "code",
   "execution_count": 6,
   "metadata": {
    "collapsed": false
   },
   "outputs": [],
   "source": [
    "buckets = np.array([200,400,600,800,1000,1200,1400,1600,1800,2000,2200,2400,2600,2800,3000,3200,3300,3400,3500,3600,3700,3800,3900,4000,4100,4200,4300])\n",
    "freq = np.array([105112,7612,1741,527,240,152,103,61,38,30,22,16,9,16,10,8,1,4,1,4,3,4,3,2,1,2,1])"
   ]
  },
  {
   "cell_type": "code",
   "execution_count": 7,
   "metadata": {
    "collapsed": false
   },
   "outputs": [],
   "source": [
    "buckets_filtered = np.array([15,30,45,60,75,90,105,120,135,150,165,180,195,210,225,240,255,270,285])\n",
    "freq_filtered = np.array([26741,4680,1876,876,564,333,251,186,94,65,49,36,24,19,16,7,7,4,0])"
   ]
  },
  {
   "cell_type": "code",
   "execution_count": 8,
   "metadata": {
    "collapsed": false
   },
   "outputs": [],
   "source": [
    "# fig, ax = plt.subplots(nrows=1, ncols=2, figsize=(20, 7))\n",
    "\n",
    "# font_labels = {'family': 'arial',\n",
    "# #         'color':  'darkred',\n",
    "#         'weight': 'normal',\n",
    "#         'size': 30,\n",
    "#         }\n",
    "\n",
    "# font_axis = {'family': 'arial',\n",
    "# #         'color':  'darkred',\n",
    "#         'weight': 'normal',\n",
    "#         'size': 22,\n",
    "#         }\n",
    "\n",
    "# from pylab import rcParams\n",
    "# rcParams['font.family'] = 'sans-serif'\n",
    "# rcParams['font.sans-serif'] = ['Arial']\n",
    "# rcParams['xtick.labelsize'] = 17\n",
    "# rcParams['ytick.labelsize'] = 17\n",
    "\n",
    "# t = buckets\n",
    "# # log x and y axis\n",
    "# # line2, = ax[0].loglog(buckets_filtered, freq_filtered, basex=10, color='#e2431e', label=\"Learned, $\\gamma=2.85$\", linewidth=2)\n",
    "# # line1, = ax[0].loglog(t, freq, basex=10, color='#2b8cbe', label=\"Initial, $\\gamma=3.81$\", linewidth=2)\n",
    "\n",
    "# from scipy.optimize import curve_fit\n",
    "# newX = np.logspace(0, 4, base=10)  # Makes a nice domain for the fitted curves.\n",
    "#                                    # Goes from 10^0 to 10^3\n",
    "#                                    # This avoids the sorting and the swarm of lines.\n",
    "\n",
    "# # Let's fit an exponential function.  \n",
    "# # This looks like a line on a lof-log plot.\n",
    "# def myExpFunc(x, a, b):\n",
    "#     return a * np.power(x, b)\n",
    "\n",
    "# popt, pcov = curve_fit(myExpFunc, buckets_filtered, freq_filtered)\n",
    "# strt = 12\n",
    "# end = 34\n",
    "# ax[0].plot(newX[strt:end], myExpFunc(newX, *popt)[strt:end], 'r--')\n",
    "\n",
    "# popt, pcov = curve_fit(myExpFunc, t, freq)\n",
    "# strt = 30\n",
    "# end = 45\n",
    "# ax[0].plot(newX[strt:end], myExpFunc(newX, *popt)[strt:end], 'b--')\n",
    "\n",
    "# ax[0].plot(buckets_filtered, freq_filtered, 'o', color='#e2431e', label=\"Learned, $\\gamma=2.85$\")\n",
    "# ax[0].plot(t, freq, 'o', color='#2b8cbe', label=\"Initial, $\\gamma=3.81$\")\n",
    "# # ax[0].plot(f(buckets_filtered))\n",
    "# ax[0].set_yscale('log')\n",
    "# ax[0].set_xscale('log')\n",
    "\n",
    "# ax[0].legend(handler_map={line1: HandlerLine2D(numpoints=2)}, prop=font_axis)\n",
    "# ax[0].set_xlabel(\"Weighted degree\", fontdict=font_labels)\n",
    "# ax[0].set_ylabel(\"Degree distribution P(k)\", fontdict=font_labels)\n",
    "# # plt.grid(True, which='major', color='black', linestyle='-')\n",
    "# ax[0].tick_params(length=10, width=1)\n",
    "# ax[1].tick_params(length=10, width=1)\n",
    "\n",
    "\n",
    "# ax[1].hist(modularity_full, bins=np.logspace(0,9, num=40, base=3.0), color='r',alpha=0.7, label=\"Learned graph\")\n",
    "# ax[1].hist(modularity_filtered, bins=np.logspace(0,9, num=40, base=3.0), alpha=0.7, color='#2b8cbe', label=\"Initial graph\")\n",
    "# ax[1].set_xscale('log', nonposy='clip')\n",
    "# ax[1].legend(handler_map={line1: HandlerLine2D(numpoints=2)}, prop=font_axis)\n",
    "# # plt.yscale('log', nonposy='clip')\n",
    "# ax[1].set_xlabel(\"Community size\", fontdict=font_labels)\n",
    "# ax[1].set_ylabel(\"Number of communities\", fontdict=font_labels)"
   ]
  },
  {
   "cell_type": "code",
   "execution_count": 9,
   "metadata": {
    "collapsed": false
   },
   "outputs": [],
   "source": [
    "# t = buckets\n",
    "# # log x and y axis\n",
    "# line1, = plt.loglog(t, freq, basex=10, color='#43459d', label=\"Initial, $\\gamma=3.81$\")\n",
    "# line2, = plt.loglog(buckets_filtered, freq_filtered, basex=10, color='#e2431e', label=\"Learned, $\\gamma=2.85$\")\n",
    "\n",
    "# plt.legend(handler_map={line1: HandlerLine2D(numpoints=2)}, prop=font_axis)\n",
    "# plt.xlabel(\"Weighted degree\", fontdict=font_labels)\n",
    "# plt.ylabel(\"Degree distribution P(k)\", fontdict=font_labels)\n",
    "# plt.xticks(fontsize=14, family='Arial')\n",
    "# plt.yticks(fontsize=14, family='Arial')\n",
    "# # plt.grid(True, which='major', color='black', linestyle='-')\n",
    "# plt.tick_params(length=7, width=1)\n",
    "\n",
    "# plt.savefig(\"degrees_log_log_combo.pdf\", format=\"PDF\", bbox_inches='tight')"
   ]
  },
  {
   "cell_type": "markdown",
   "metadata": {},
   "source": [
    "Alternative: recompute using log binning"
   ]
  },
  {
   "cell_type": "code",
   "execution_count": 10,
   "metadata": {
    "collapsed": false
   },
   "outputs": [
    {
     "data": {
      "text/plain": [
       "115767"
      ]
     },
     "execution_count": 10,
     "metadata": {},
     "output_type": "execute_result"
    }
   ],
   "source": [
    "import csv\n",
    "\n",
    "with open('degrees.csv') as csvfile:\n",
    "    degrees = map(lambda x: int(x[0]), list(csv.reader(csvfile)))\n",
    "\n",
    "len(degrees)"
   ]
  },
  {
   "cell_type": "code",
   "execution_count": 11,
   "metadata": {
    "collapsed": false
   },
   "outputs": [
    {
     "data": {
      "text/plain": [
       "35839"
      ]
     },
     "execution_count": 11,
     "metadata": {},
     "output_type": "execute_result"
    }
   ],
   "source": [
    "with open('degrees_filtered.csv') as csvfile:\n",
    "    degrees_filtered = map(lambda x: int(x[0]), list(csv.reader(csvfile)))\n",
    "\n",
    "len(degrees_filtered)"
   ]
  },
  {
   "cell_type": "code",
   "execution_count": 12,
   "metadata": {
    "collapsed": false
   },
   "outputs": [],
   "source": [
    "(n_init, bins_init, _) = plt.hist(degrees, bins=np.logspace(0,9, num=20, base=3.0), color='r',alpha=0.7, label=\"Learned graph\")\n",
    "(n_filtered, bins_filtered, _) = plt.hist(degrees_filtered, bins=np.logspace(0,9, num=20, base=3.0), alpha=0.7, color='#2b8cbe', label=\"Initial graph\")\n",
    "# plt.xscale('log', nonposy='clip')\n",
    "# plt.yscale('log', nonposy='clip')\n",
    "# plt.legend(handler_map={line1: HandlerLine2D(numpoints=2)}, prop=font_axis)\n",
    "# # plt.yscale('log', nonposy='clip')\n",
    "# # plt.xlabel(\"Community size\", fontdict=font_labels)\n",
    "# # plt.ylabel(\"Number of communities\", fontdict=font_labels)\n",
    "# plt.xticks(fontsize=14, family='Arial')\n",
    "# plt.yticks(fontsize=14, family='Arial')"
   ]
  },
  {
   "cell_type": "code",
   "execution_count": 13,
   "metadata": {
    "collapsed": true
   },
   "outputs": [],
   "source": [
    "n_init  = n_init / max(n_init)\n",
    "n_filtered = n_filtered / max(n_filtered)"
   ]
  },
  {
   "cell_type": "code",
   "execution_count": 14,
   "metadata": {
    "collapsed": false
   },
   "outputs": [],
   "source": [
    "# plt.plot(bins_filtered[:-1], n_init, color='b', marker='o', linestyle = 'None')\n",
    "# plt.plot(bins_filtered[:-1], n_filtered, color='r', marker='o', linestyle = 'None')\n",
    "# plt.yscale('log')\n",
    "# plt.xscale('log')"
   ]
  },
  {
   "cell_type": "code",
   "execution_count": 15,
   "metadata": {
    "collapsed": false
   },
   "outputs": [
    {
     "data": {
      "text/plain": [
       "19"
      ]
     },
     "execution_count": 15,
     "metadata": {},
     "output_type": "execute_result"
    }
   ],
   "source": [
    "len(freq_filtered)"
   ]
  },
  {
   "cell_type": "code",
   "execution_count": 57,
   "metadata": {
    "collapsed": false
   },
   "outputs": [
    {
     "data": {
      "text/plain": [
       "<matplotlib.text.Text at 0x7fb735fc9d50>"
      ]
     },
     "execution_count": 57,
     "metadata": {},
     "output_type": "execute_result"
    }
   ],
   "source": [
    "buckets = bins_init[:-1]\n",
    "freq = n_init\n",
    "\n",
    "buckets_filtered = bins_filtered[:-1]\n",
    "freq_filtered = n_filtered\n",
    "fig, ax = plt.subplots(nrows=1, ncols=2, figsize=(20, 7))\n",
    "\n",
    "font_labels = {'family': 'arial',\n",
    "#         'color':  'darkred',\n",
    "        'weight': 'normal',\n",
    "        'size': 30,\n",
    "        }\n",
    "\n",
    "font_axis = {'family': 'arial',\n",
    "#         'color':  'darkred',\n",
    "        'weight': 'normal',\n",
    "        'size': 20,\n",
    "        }\n",
    "\n",
    "from pylab import rcParams\n",
    "rcParams['font.family'] = 'sans-serif'\n",
    "rcParams['font.sans-serif'] = ['Arial']\n",
    "rcParams['xtick.labelsize'] = 20\n",
    "rcParams['ytick.labelsize'] = 20\n",
    "\n",
    "t = buckets\n",
    "# log x and y axis\n",
    "# line2, = ax[0].loglog(buckets_filtered, freq_filtered, basex=10, color='#e2431e', label=\"Learned, $\\gamma=2.85$\", linewidth=2)\n",
    "# line1, = ax[0].loglog(t, freq, basex=10, color='#2b8cbe', label=\"Initial, $\\gamma=3.81$\", linewidth=2)\n",
    "\n",
    "from scipy.optimize import curve_fit\n",
    "newX = np.logspace(0, 5, base=10)  # Makes a nice domain for the fitted curves.\n",
    "                                   # Goes from 10^0 to 10^3\n",
    "                                   # This avoids the sorting and the swarm of lines.\n",
    "\n",
    "# Let's fit an exponential function.  \n",
    "# This looks like a line on a lof-log plot.\n",
    "def myExpFunc(x, a, b):\n",
    "    return a * np.power(x, b)\n",
    "\n",
    "popt, pcov = curve_fit(myExpFunc, buckets_filtered[8:], freq_filtered[8:])\n",
    "strt = 14\n",
    "end = 38\n",
    "ax[0].plot(newX[strt:end], myExpFunc(newX, *popt)[strt:end], 'k--')\n",
    "\n",
    "popt, pcov = curve_fit(myExpFunc, t[10:], freq[10:])\n",
    "strt = 20\n",
    "end = 48\n",
    "ax[0].plot(newX[strt:end], myExpFunc(newX, *popt)[strt:end], 'k--')\n",
    "\n",
    "ax[0].plot(buckets_filtered, freq_filtered, 'o', color='#e2431e', label=\"Learned, $\\gamma=2.85$\")\n",
    "ax[0].plot(t, freq, 'o', color='#2b8cbe', label=\"Initial, $\\gamma=3.81$\")\n",
    "# ax[0].plot(f(buckets_filtered))\n",
    "ax[0].set_yscale('log')\n",
    "ax[0].set_xscale('log')\n",
    "\n",
    "ax[0].legend(handler_map={line1: HandlerLine2D(numpoints=2)}, prop=font_axis)\n",
    "ax[0].set_xlabel(\"Weighted degree\", fontdict=font_labels)\n",
    "ax[0].set_ylabel(\"Degree distribution P(k)\", fontdict=font_labels)\n",
    "# plt.grid(True, which='major', color='black', linestyle='-')\n",
    "ax[0].tick_params(length=10, width=1)\n",
    "ax[1].tick_params(length=10, width=1)\n",
    "\n",
    "\n",
    "ax[1].hist(modularity_full, bins=np.logspace(0,9, num=40, base=3.0), color='r',alpha=0.7, label=\"Learned graph\")\n",
    "ax[1].hist(modularity_filtered, bins=np.logspace(0,9, num=40, base=3.0), alpha=0.7, color='#2b8cbe', label=\"Initial graph\")\n",
    "ax[1].set_xscale('log', nonposy='clip')\n",
    "ax[1].legend(handler_map={line1: HandlerLine2D(numpoints=2)}, prop=font_axis)\n",
    "# plt.yscale('log', nonposy='clip')\n",
    "ax[1].set_xlabel(\"Community size\", fontdict=font_labels)\n",
    "ax[1].set_ylabel(\"Number of communities\", fontdict=font_labels)"
   ]
  },
  {
   "cell_type": "code",
   "execution_count": 58,
   "metadata": {
    "collapsed": true
   },
   "outputs": [],
   "source": [
    "plt.savefig(\"degrees_log_log_combo.pdf\", format=\"PDF\", bbox_inches='tight')"
   ]
  },
  {
   "cell_type": "code",
   "execution_count": 35,
   "metadata": {
    "collapsed": true
   },
   "outputs": [],
   "source": [
    "# from numpy import genfromtxt\n",
    "# my_data = genfromtxt('weights.csv', delimiter='')"
   ]
  },
  {
   "cell_type": "code",
   "execution_count": null,
   "metadata": {
    "collapsed": false
   },
   "outputs": [],
   "source": [
    "# len(my_data)"
   ]
  },
  {
   "cell_type": "code",
   "execution_count": null,
   "metadata": {
    "collapsed": false
   },
   "outputs": [],
   "source": [
    "# plt.hist(my_data, color='#2b8cbe', bins=[0, 500, 1000, 1500, 2000, 2500, 3000, 3500, 4000, 4500])\n",
    "# plt.xlabel(\"Edge weight\", fontdict=font_labels)\n",
    "# plt.ylabel(\"Frequency (log scale)\", fontdict=font_labels)\n",
    "# plt.xticks(fontsize=14, family='Arial')\n",
    "# plt.yticks(fontsize=14, family='Arial')\n",
    "# plt.yscale('log', nonposy='clip')\n",
    "# # plt.grid(True, which='major', color='black', linestyle='-')\n",
    "# plt.savefig(\"edge_weight_distribution.pdf\", format=\"PDF\", bbox_inches='tight')"
   ]
  },
  {
   "cell_type": "code",
   "execution_count": null,
   "metadata": {
    "collapsed": true
   },
   "outputs": [],
   "source": []
  }
 ],
 "metadata": {
  "kernelspec": {
   "display_name": "Python 2",
   "language": "python",
   "name": "python2"
  },
  "language_info": {
   "codemirror_mode": {
    "name": "ipython",
    "version": 2
   },
   "file_extension": ".py",
   "mimetype": "text/x-python",
   "name": "python",
   "nbconvert_exporter": "python",
   "pygments_lexer": "ipython2",
   "version": "2.7.15rc1"
  }
 },
 "nbformat": 4,
 "nbformat_minor": 1
}
