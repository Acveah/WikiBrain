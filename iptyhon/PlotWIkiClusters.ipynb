{
 "cells": [
  {
   "cell_type": "code",
   "execution_count": null,
   "metadata": {
    "collapsed": true
   },
   "outputs": [],
   "source": [
    "import matplotlib.pyplot as plt\n",
    "import numpy as np\n",
    "import matplotlib.colors as colors\n",
    "%matplotlib inline"
   ]
  },
  {
   "cell_type": "code",
   "execution_count": null,
   "metadata": {
    "collapsed": true
   },
   "outputs": [],
   "source": [
    "PATH_DATA = \"/mnt/data/git/WikiBrain/src/main/resources/clusters/\"\n",
    "PATH_WW2 = PATH_DATA + \"ww2/part-00000\"\n",
    "PATH_SB = PATH_DATA + \"superBowl/part-00000\"\n",
    "PATH_CHARLIE = PATH_DATA + \"charlie_cluster/part-00000\"\n",
    "PATH_CHARLIE_NGBHRS = PATH_DATA + \"charlie/part-00000\"\n",
    "\n",
    "PATH_WW2_LABELS = PATH_DATA + \"trainded_graphs_1_0_cleaned _WW2_labels.csv\"\n",
    "PATH_SB_LABELS = PATH_DATA + \"trainded_graphs_1_0_cleaned_FEB_SB_cluster.csv\"\n",
    "PATH_CHARLIE_LABELS = PATH_DATA + \"trainded_graphs_1_0_cleaned_charlie_cluster.csv\"\n",
    "PATH_CHARLIE_NGHBRS_LABELS = PATH_DATA + \"trainded_graphs_1_0_cleaned _Charlie.csv\""
   ]
  },
  {
   "cell_type": "code",
   "execution_count": null,
   "metadata": {
    "collapsed": false
   },
   "outputs": [],
   "source": [
    "PATH_ACTIVATIONS = PATH_CHARLIE_NGBHRS #actications\n",
    "PATH_LABELS = PATH_CHARLIE_NGHBRS_LABELS # labels"
   ]
  },
  {
   "cell_type": "code",
   "execution_count": null,
   "metadata": {
    "collapsed": false
   },
   "outputs": [],
   "source": [
    "with open(PATH_ACTIVATIONS) as f:\n",
    "    content = f.readlines()"
   ]
  },
  {
   "cell_type": "code",
   "execution_count": null,
   "metadata": {
    "collapsed": false
   },
   "outputs": [],
   "source": [
    "content = map(\n",
    "    lambda x: map(\n",
    "        lambda s: s.replace('(', '').replace(')','').replace('[','').replace(']','').replace('.0', ''), x.split(',')), \n",
    "    [x.strip() for x in content])"
   ]
  },
  {
   "cell_type": "code",
   "execution_count": null,
   "metadata": {
    "collapsed": false
   },
   "outputs": [],
   "source": [
    "content = map(lambda l: [int(x) for x in l], content)\n",
    "content_ = content"
   ]
  },
  {
   "cell_type": "code",
   "execution_count": null,
   "metadata": {
    "collapsed": true
   },
   "outputs": [],
   "source": [
    "ids = map(lambda l: l[0], content)"
   ]
  },
  {
   "cell_type": "code",
   "execution_count": null,
   "metadata": {
    "collapsed": true
   },
   "outputs": [],
   "source": [
    "with open(PATH_LABELS) as f:\n",
    "    idsLabels = f.readlines()\n",
    "idsLabels = [x.strip() for x in idsLabels]"
   ]
  },
  {
   "cell_type": "code",
   "execution_count": null,
   "metadata": {
    "collapsed": false
   },
   "outputs": [],
   "source": [
    "idsLabels = map(lambda l: (int(l[0]), l[1]), map(lambda t: t.split(','), idsLabels))\n",
    "idsLabels_ = idsLabels"
   ]
  },
  {
   "cell_type": "code",
   "execution_count": null,
   "metadata": {
    "collapsed": true
   },
   "outputs": [],
   "source": [
    "import string\n",
    "printable = set(string.printable)\n",
    "idsLabels = map(lambda l: (int(l[0]), filter(lambda x: x in printable, l[1])), idsLabels)"
   ]
  },
  {
   "cell_type": "code",
   "execution_count": null,
   "metadata": {
    "collapsed": false
   },
   "outputs": [],
   "source": [
    "idsLabels = dict(idsLabels)"
   ]
  },
  {
   "cell_type": "code",
   "execution_count": null,
   "metadata": {
    "collapsed": false
   },
   "outputs": [],
   "source": [
    "content = map(lambda l: l[1:],content)"
   ]
  },
  {
   "cell_type": "markdown",
   "metadata": {},
   "source": [
    "### GO TO PLOT SECTION\n",
    "### Filtering for particular clusters (Run only if needed)"
   ]
  },
  {
   "cell_type": "markdown",
   "metadata": {},
   "source": [
    "#### 1. SB: Only NFL teams"
   ]
  },
  {
   "cell_type": "code",
   "execution_count": null,
   "metadata": {
    "collapsed": true
   },
   "outputs": [],
   "source": [
    "nfl_teams = ['Buffalo_Bills','Miami_Dolphins','New_England_Patriots','New_York_Jets','Baltimore_Ravens','Cincinnati_Bengals','Cleveland_Browns','Pittsburgh_Steelers','Houston_Texans','Indianapolis_Colts','Jacksonville_Jaguars','Tennessee_Titans','Denver_Broncos','Kansas_City_Chiefs','Los_Angeles_Chargers','Oakland_Raiders','Dallas_Cowboys','New_York_Giants','Philadelphia_Eagles','Washington_Redskins','Chicago_Bears','Detroit_Lions','Green_Bay_Packers','Minnesota_Vikings','Atlanta_Falcons','Carolina_Panthers','New_Orleans_Saints','Tampa_Bay_Buccaneers','Arizona_Cardinals','Los_Angeles_Rams','San_Francisco_49ers','Seattle_Seahawks']"
   ]
  },
  {
   "cell_type": "code",
   "execution_count": null,
   "metadata": {
    "collapsed": false
   },
   "outputs": [],
   "source": [
    "count = 0\n",
    "for team in nfl_teams:\n",
    "    if team in idsLabels.values():\n",
    "        count += 1\n",
    "count"
   ]
  },
  {
   "cell_type": "code",
   "execution_count": null,
   "metadata": {
    "collapsed": false
   },
   "outputs": [],
   "source": [
    "nfl_labels = []\n",
    "for team in nfl_teams:\n",
    "    for label in idsLabels_:\n",
    "        if label[1] == team:\n",
    "            nfl_labels.append(label)"
   ]
  },
  {
   "cell_type": "code",
   "execution_count": null,
   "metadata": {
    "collapsed": true
   },
   "outputs": [],
   "source": [
    "import string\n",
    "printable = set(string.printable)\n",
    "nfl_labels = map(lambda l: (int(l[0]), filter(lambda x: x in printable, l[1])), nfl_labels)"
   ]
  },
  {
   "cell_type": "code",
   "execution_count": null,
   "metadata": {
    "collapsed": true
   },
   "outputs": [],
   "source": [
    "nfl_labels = dict(nfl_labels)"
   ]
  },
  {
   "cell_type": "code",
   "execution_count": null,
   "metadata": {
    "collapsed": false
   },
   "outputs": [],
   "source": [
    "content = []\n",
    "for c in content_:\n",
    "    if c[0] in nfl_labels.keys():\n",
    "        content.append(c)"
   ]
  },
  {
   "cell_type": "code",
   "execution_count": null,
   "metadata": {
    "collapsed": true
   },
   "outputs": [],
   "source": [
    "idsLabels = nfl_labels"
   ]
  },
  {
   "cell_type": "markdown",
   "metadata": {},
   "source": [
    "#### 2. CHARLIE. Remove particular pages by index in the \"content\" array"
   ]
  },
  {
   "cell_type": "code",
   "execution_count": null,
   "metadata": {
    "collapsed": false
   },
   "outputs": [],
   "source": [
    "indexToDelete = [2,6,12,18,20]\n",
    "deleted = 0\n",
    "\n",
    "for i in indexToDelete:\n",
    "    i -= deleted\n",
    "    deleted += 1\n",
    "    del content[i]\n",
    "    del ids[i]"
   ]
  },
  {
   "cell_type": "markdown",
   "metadata": {},
   "source": [
    "### PLOT"
   ]
  },
  {
   "cell_type": "code",
   "execution_count": null,
   "metadata": {
    "collapsed": false
   },
   "outputs": [],
   "source": [
    "x_mon = [i for i in np.arange(0, len(content[0]), 7*24)]\n",
    "x_sat = [i for i in np.arange(5*24, len(content[0]), 7*24)]\n",
    "x_month = [i for i in np.arange(0, len(content[0]), 30*24)]"
   ]
  },
  {
   "cell_type": "code",
   "execution_count": null,
   "metadata": {
    "collapsed": true
   },
   "outputs": [],
   "source": [
    "from pylab import rcParams\n",
    "rcParams['figure.figsize'] = 50, 50\n",
    "rcParams['xtick.labelsize'] = 50\n",
    "rcParams['ytick.labelsize'] = 50"
   ]
  },
  {
   "cell_type": "code",
   "execution_count": null,
   "metadata": {
    "collapsed": false,
    "scrolled": true
   },
   "outputs": [],
   "source": [
    "plt.imshow(map(lambda l: l[0:], content), cmap=\"Blues\", interpolation='nearest', aspect='auto', norm=colors.PowerNorm(gamma=1./4.))\n",
    "plt.colorbar()\n",
    "# ids = idsLabels.keys()\n",
    "ids = ids # for Charlie neighbors filtering. If needed\n",
    "plt.yticks([i for i in range(0,len(content))], [idsLabels[x] for x in ids])\n",
    "# for xc in x_mon:\n",
    "#     plt.axvline(x=xc, linewidth=1, color = 'b')\n",
    "# for xc in x_month:\n",
    "#     plt.axvline(x=xc, linewidth=1, color = 'r')\n",
    "# for xc in x_sat:\n",
    "#     plt.axvline(x=xc, linewidth=1, color = 'g')\n",
    "plt.show()"
   ]
  },
  {
   "cell_type": "markdown",
   "metadata": {
    "collapsed": true
   },
   "source": [
    "### Overall cluster activity"
   ]
  },
  {
   "cell_type": "code",
   "execution_count": null,
   "metadata": {
    "collapsed": true
   },
   "outputs": [],
   "source": [
    "content = np.transpose(content)\n",
    "summary = [sum(l) for l in content]"
   ]
  },
  {
   "cell_type": "code",
   "execution_count": null,
   "metadata": {
    "collapsed": false
   },
   "outputs": [],
   "source": [
    "from pylab import rcParams\n",
    "from math import log\n",
    "rcParams['figure.figsize'] = 200, 10\n",
    "rcParams['xtick.labelsize'] = 20\n",
    "rcParams['ytick.labelsize'] = 20\n",
    "plt.grid()\n",
    "for xc in x_mon:\n",
    "    plt.axvline(x=xc, linewidth=1, color = 'b')\n",
    "for xc in x_month:\n",
    "    plt.axvline(x=xc, linewidth=1, color = 'r')\n",
    "for xc in x_sat:\n",
    "    plt.axvline(x=xc, linewidth=1, color = 'g')\n",
    "plt.plot(summary, 'g')"
   ]
  }
 ],
 "metadata": {
  "kernelspec": {
   "display_name": "Python 2",
   "language": "python",
   "name": "python2"
  },
  "language_info": {
   "codemirror_mode": {
    "name": "ipython",
    "version": 2
   },
   "file_extension": ".py",
   "mimetype": "text/x-python",
   "name": "python",
   "nbconvert_exporter": "python",
   "pygments_lexer": "ipython2",
   "version": "2.7.12"
  }
 },
 "nbformat": 4,
 "nbformat_minor": 1
}
